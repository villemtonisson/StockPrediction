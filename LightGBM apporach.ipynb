{
  "cells": [
    {
      "metadata": {
        "_uuid": "895957989ed348dd98de95f05f32c10edf2b9e13"
      },
      "cell_type": "markdown",
      "source": "## Project in Data Science : Predicting stock prices based on news and market data"
    },
    {
      "metadata": {
        "_uuid": "8f2839f25d086af736a60e9eeb907d3b93b6e0e5",
        "_cell_guid": "b1076dfc-b9ad-4769-8c92-a6c4dae69d19",
        "trusted": true
      },
      "cell_type": "code",
      "source": "import numpy as np # linear algebra\nimport pandas as pd # data processing, CSV file I/O (e.g. pd.read_csv)\n\nimport os\nprint(os.listdir(\"../input\"))\n\n# Custom module kaggle.competitions.twosigmanews\nfrom kaggle.competitions import twosigmanews\n\nenv = twosigmanews.make_env()",
      "execution_count": 1,
      "outputs": [
        {
          "output_type": "stream",
          "text": "['marketdata_sample.csv', 'news_sample.csv']\nLoading the data... This could take a minute.\nDone!\n",
          "name": "stdout"
        }
      ]
    },
    {
      "metadata": {
        "_cell_guid": "79c7e3d0-c299-4dcb-8224-4455121ee9b0",
        "_uuid": "d629ff2d2480ee46fbb7e2d37f6b5fab8052498a",
        "trusted": true
      },
      "cell_type": "code",
      "source": "# Import data\n(market_train_df, news_train_df) = env.get_training_data()\nmarket_train_df['date'] = market_train_df['time'].dt.strftime('%Y-%m-%d')",
      "execution_count": 2,
      "outputs": []
    },
    {
      "metadata": {
        "_uuid": "bf9842be3f77cb594cea8b59e5bb212144658b2a"
      },
      "cell_type": "markdown",
      "source": "As my kernel died a lot inbetween fitting different models, I needed to take smaller train data"
    },
    {
      "metadata": {
        "trusted": true,
        "_uuid": "b4e750d27de080707c5c999c566c84016635bb94"
      },
      "cell_type": "code",
      "source": "market_train_df=market_train_df.loc[market_train_df['time']>\"2013-01-01\",:]\nnews_train_df=news_train_df.loc[news_train_df['time']>\"2013-01-01\",:]",
      "execution_count": 3,
      "outputs": []
    },
    {
      "metadata": {
        "trusted": true,
        "_uuid": "00653d8b3e37c128fa263c930791a7b9e5cf9fcd"
      },
      "cell_type": "code",
      "source": "market_train_df.head()",
      "execution_count": 4,
      "outputs": [
        {
          "output_type": "execute_result",
          "execution_count": 4,
          "data": {
            "text/plain": "                             time assetCode     ...     universe        date\n2354464 2013-01-02 22:00:00+00:00       A.N     ...          1.0  2013-01-02\n2354465 2013-01-02 22:00:00+00:00     AAN.N     ...          1.0  2013-01-02\n2354466 2013-01-02 22:00:00+00:00     AAP.N     ...          1.0  2013-01-02\n2354467 2013-01-02 22:00:00+00:00    AAPL.O     ...          1.0  2013-01-02\n2354468 2013-01-02 22:00:00+00:00    AAWW.O     ...          0.0  2013-01-02\n\n[5 rows x 17 columns]",
            "text/html": "<div>\n<style scoped>\n    .dataframe tbody tr th:only-of-type {\n        vertical-align: middle;\n    }\n\n    .dataframe tbody tr th {\n        vertical-align: top;\n    }\n\n    .dataframe thead th {\n        text-align: right;\n    }\n</style>\n<table border=\"1\" class=\"dataframe\">\n  <thead>\n    <tr style=\"text-align: right;\">\n      <th></th>\n      <th>time</th>\n      <th>assetCode</th>\n      <th>assetName</th>\n      <th>volume</th>\n      <th>close</th>\n      <th>open</th>\n      <th>returnsClosePrevRaw1</th>\n      <th>returnsOpenPrevRaw1</th>\n      <th>returnsClosePrevMktres1</th>\n      <th>returnsOpenPrevMktres1</th>\n      <th>returnsClosePrevRaw10</th>\n      <th>returnsOpenPrevRaw10</th>\n      <th>returnsClosePrevMktres10</th>\n      <th>returnsOpenPrevMktres10</th>\n      <th>returnsOpenNextMktres10</th>\n      <th>universe</th>\n      <th>date</th>\n    </tr>\n  </thead>\n  <tbody>\n    <tr>\n      <th>2354464</th>\n      <td>2013-01-02 22:00:00+00:00</td>\n      <td>A.N</td>\n      <td>Agilent Technologies Inc</td>\n      <td>6290038.0</td>\n      <td>41.88</td>\n      <td>42.17</td>\n      <td>0.022960</td>\n      <td>0.062484</td>\n      <td>-0.011745</td>\n      <td>0.028649</td>\n      <td>0.030503</td>\n      <td>0.057363</td>\n      <td>0.001360</td>\n      <td>0.047593</td>\n      <td>0.032719</td>\n      <td>1.0</td>\n      <td>2013-01-02</td>\n    </tr>\n    <tr>\n      <th>2354465</th>\n      <td>2013-01-02 22:00:00+00:00</td>\n      <td>AAN.N</td>\n      <td>Aaron's Inc</td>\n      <td>463556.0</td>\n      <td>28.70</td>\n      <td>28.72</td>\n      <td>0.014851</td>\n      <td>0.040957</td>\n      <td>-0.003633</td>\n      <td>0.058916</td>\n      <td>0.021716</td>\n      <td>0.043226</td>\n      <td>0.010621</td>\n      <td>0.041752</td>\n      <td>0.025683</td>\n      <td>1.0</td>\n      <td>2013-01-02</td>\n    </tr>\n    <tr>\n      <th>2354466</th>\n      <td>2013-01-02 22:00:00+00:00</td>\n      <td>AAP.N</td>\n      <td>Advance Auto Parts Inc</td>\n      <td>800421.0</td>\n      <td>72.49</td>\n      <td>73.49</td>\n      <td>0.001935</td>\n      <td>0.029416</td>\n      <td>-0.006146</td>\n      <td>0.021011</td>\n      <td>-0.006849</td>\n      <td>0.008509</td>\n      <td>-0.003837</td>\n      <td>0.011423</td>\n      <td>-0.001499</td>\n      <td>1.0</td>\n      <td>2013-01-02</td>\n    </tr>\n    <tr>\n      <th>2354467</th>\n      <td>2013-01-02 22:00:00+00:00</td>\n      <td>AAPL.O</td>\n      <td>Apple Inc</td>\n      <td>20017838.0</td>\n      <td>549.03</td>\n      <td>554.00</td>\n      <td>0.031676</td>\n      <td>0.086083</td>\n      <td>-0.011501</td>\n      <td>0.051464</td>\n      <td>0.058208</td>\n      <td>0.088580</td>\n      <td>0.011897</td>\n      <td>0.066369</td>\n      <td>-0.068319</td>\n      <td>1.0</td>\n      <td>2013-01-02</td>\n    </tr>\n    <tr>\n      <th>2354468</th>\n      <td>2013-01-02 22:00:00+00:00</td>\n      <td>AAWW.O</td>\n      <td>Atlas Air Worldwide Holdings Inc</td>\n      <td>275066.0</td>\n      <td>45.58</td>\n      <td>45.54</td>\n      <td>0.028430</td>\n      <td>0.049551</td>\n      <td>0.006693</td>\n      <td>0.035086</td>\n      <td>0.084463</td>\n      <td>0.089474</td>\n      <td>0.076586</td>\n      <td>0.085146</td>\n      <td>-0.043747</td>\n      <td>0.0</td>\n      <td>2013-01-02</td>\n    </tr>\n  </tbody>\n</table>\n</div>"
          },
          "metadata": {}
        }
      ]
    },
    {
      "metadata": {
        "trusted": true,
        "_uuid": "110949627aba078437cbeb8c94a47ee927f9cb24"
      },
      "cell_type": "code",
      "source": "news_train_df.head()",
      "execution_count": 5,
      "outputs": [
        {
          "output_type": "execute_result",
          "execution_count": 5,
          "data": {
            "text/plain": "                             time      ...       volumeCounts7D\n5275248 2013-01-01 00:01:30+00:00      ...                    0\n5275249 2013-01-01 00:01:30+00:00      ...                    3\n5275250 2013-01-01 00:01:30+00:00      ...                    4\n5275251 2013-01-01 00:22:30+00:00      ...                    6\n5275252 2013-01-01 00:23:55+00:00      ...                   37\n\n[5 rows x 35 columns]",
            "text/html": "<div>\n<style scoped>\n    .dataframe tbody tr th:only-of-type {\n        vertical-align: middle;\n    }\n\n    .dataframe tbody tr th {\n        vertical-align: top;\n    }\n\n    .dataframe thead th {\n        text-align: right;\n    }\n</style>\n<table border=\"1\" class=\"dataframe\">\n  <thead>\n    <tr style=\"text-align: right;\">\n      <th></th>\n      <th>time</th>\n      <th>sourceTimestamp</th>\n      <th>firstCreated</th>\n      <th>sourceId</th>\n      <th>headline</th>\n      <th>urgency</th>\n      <th>takeSequence</th>\n      <th>provider</th>\n      <th>subjects</th>\n      <th>audiences</th>\n      <th>bodySize</th>\n      <th>companyCount</th>\n      <th>headlineTag</th>\n      <th>marketCommentary</th>\n      <th>sentenceCount</th>\n      <th>wordCount</th>\n      <th>assetCodes</th>\n      <th>assetName</th>\n      <th>firstMentionSentence</th>\n      <th>relevance</th>\n      <th>sentimentClass</th>\n      <th>sentimentNegative</th>\n      <th>sentimentNeutral</th>\n      <th>sentimentPositive</th>\n      <th>sentimentWordCount</th>\n      <th>noveltyCount12H</th>\n      <th>noveltyCount24H</th>\n      <th>noveltyCount3D</th>\n      <th>noveltyCount5D</th>\n      <th>noveltyCount7D</th>\n      <th>volumeCounts12H</th>\n      <th>volumeCounts24H</th>\n      <th>volumeCounts3D</th>\n      <th>volumeCounts5D</th>\n      <th>volumeCounts7D</th>\n    </tr>\n  </thead>\n  <tbody>\n    <tr>\n      <th>5275248</th>\n      <td>2013-01-01 00:01:30+00:00</td>\n      <td>2013-01-01 00:01:29+00:00</td>\n      <td>2013-01-01 00:01:29+00:00</td>\n      <td>046255936b3966b2</td>\n      <td>Plan to prevent spike in US milk prices stalle...</td>\n      <td>3</td>\n      <td>1</td>\n      <td>RTRS</td>\n      <td>{'LAW', 'FOBE', 'MLK', 'USDA', 'FOD', 'GRA', '...</td>\n      <td>{'PGE', 'C', 'PCO', 'G', 'PCM', 'PCU', 'SOF', ...</td>\n      <td>3480</td>\n      <td>4</td>\n      <td></td>\n      <td>False</td>\n      <td>26</td>\n      <td>643</td>\n      <td>{'DF.N'}</td>\n      <td>Dean Foods Co</td>\n      <td>0</td>\n      <td>0.114708</td>\n      <td>-1</td>\n      <td>0.620525</td>\n      <td>0.252716</td>\n      <td>0.126759</td>\n      <td>643</td>\n      <td>0</td>\n      <td>0</td>\n      <td>0</td>\n      <td>0</td>\n      <td>0</td>\n      <td>0</td>\n      <td>0</td>\n      <td>0</td>\n      <td>0</td>\n      <td>0</td>\n    </tr>\n    <tr>\n      <th>5275249</th>\n      <td>2013-01-01 00:01:30+00:00</td>\n      <td>2013-01-01 00:01:29+00:00</td>\n      <td>2013-01-01 00:01:29+00:00</td>\n      <td>046255936b3966b2</td>\n      <td>Plan to prevent spike in US milk prices stalle...</td>\n      <td>3</td>\n      <td>1</td>\n      <td>RTRS</td>\n      <td>{'LAW', 'FOBE', 'MLK', 'USDA', 'FOD', 'GRA', '...</td>\n      <td>{'PGE', 'C', 'PCO', 'G', 'PCM', 'PCU', 'SOF', ...</td>\n      <td>3480</td>\n      <td>4</td>\n      <td></td>\n      <td>False</td>\n      <td>26</td>\n      <td>643</td>\n      <td>{'YUM.N'}</td>\n      <td>Yum! Brands Inc</td>\n      <td>0</td>\n      <td>0.114708</td>\n      <td>-1</td>\n      <td>0.620525</td>\n      <td>0.252716</td>\n      <td>0.126759</td>\n      <td>643</td>\n      <td>0</td>\n      <td>0</td>\n      <td>0</td>\n      <td>0</td>\n      <td>0</td>\n      <td>0</td>\n      <td>0</td>\n      <td>0</td>\n      <td>2</td>\n      <td>3</td>\n    </tr>\n    <tr>\n      <th>5275250</th>\n      <td>2013-01-01 00:01:30+00:00</td>\n      <td>2013-01-01 00:01:29+00:00</td>\n      <td>2013-01-01 00:01:29+00:00</td>\n      <td>046255936b3966b2</td>\n      <td>Plan to prevent spike in US milk prices stalle...</td>\n      <td>3</td>\n      <td>1</td>\n      <td>RTRS</td>\n      <td>{'LAW', 'FOBE', 'MLK', 'USDA', 'FOD', 'GRA', '...</td>\n      <td>{'PGE', 'C', 'PCO', 'G', 'PCM', 'PCU', 'SOF', ...</td>\n      <td>3480</td>\n      <td>4</td>\n      <td></td>\n      <td>False</td>\n      <td>26</td>\n      <td>643</td>\n      <td>{'KRFT.O'}</td>\n      <td>Kraft Foods Group Inc</td>\n      <td>0</td>\n      <td>0.114708</td>\n      <td>-1</td>\n      <td>0.620525</td>\n      <td>0.252716</td>\n      <td>0.126759</td>\n      <td>643</td>\n      <td>0</td>\n      <td>0</td>\n      <td>0</td>\n      <td>0</td>\n      <td>0</td>\n      <td>0</td>\n      <td>0</td>\n      <td>0</td>\n      <td>1</td>\n      <td>4</td>\n    </tr>\n    <tr>\n      <th>5275251</th>\n      <td>2013-01-01 00:22:30+00:00</td>\n      <td>2013-01-01 00:22:29+00:00</td>\n      <td>2013-01-01 00:22:29+00:00</td>\n      <td>f70c80c85d3bf10a</td>\n      <td>FACTBOX-Holdings of SPDR gold unchanged</td>\n      <td>3</td>\n      <td>1</td>\n      <td>RTRS</td>\n      <td>{'PLAT', 'PREMTL', 'INVT', 'ZA', 'FINS', 'INVS...</td>\n      <td>{'SOF', 'C', 'MTL', 'GRO'}</td>\n      <td>5339</td>\n      <td>2</td>\n      <td>FACTBOX</td>\n      <td>False</td>\n      <td>13</td>\n      <td>672</td>\n      <td>{'SGOL.P'}</td>\n      <td>ETFS Physical Swiss Gold Shares</td>\n      <td>5</td>\n      <td>0.674200</td>\n      <td>0</td>\n      <td>0.013672</td>\n      <td>0.800675</td>\n      <td>0.185653</td>\n      <td>463</td>\n      <td>0</td>\n      <td>2</td>\n      <td>3</td>\n      <td>5</td>\n      <td>6</td>\n      <td>0</td>\n      <td>2</td>\n      <td>3</td>\n      <td>5</td>\n      <td>6</td>\n    </tr>\n    <tr>\n      <th>5275252</th>\n      <td>2013-01-01 00:23:55+00:00</td>\n      <td>2013-01-01 00:23:55+00:00</td>\n      <td>2013-01-01 00:23:55+00:00</td>\n      <td>a80e684110dadec7</td>\n      <td>Reuters Insider - Stocks end 2012 with deal in...</td>\n      <td>3</td>\n      <td>1</td>\n      <td>RTRS</td>\n      <td>{'FUND', 'LEN', 'FINS', 'MTVID', 'US', 'BNK', ...</td>\n      <td>{'RITV'}</td>\n      <td>1734</td>\n      <td>1</td>\n      <td></td>\n      <td>False</td>\n      <td>6</td>\n      <td>177</td>\n      <td>{'BAC.N'}</td>\n      <td>Bank of America Corp</td>\n      <td>0</td>\n      <td>0.250000</td>\n      <td>1</td>\n      <td>0.008433</td>\n      <td>0.451409</td>\n      <td>0.540158</td>\n      <td>177</td>\n      <td>0</td>\n      <td>0</td>\n      <td>0</td>\n      <td>0</td>\n      <td>0</td>\n      <td>16</td>\n      <td>19</td>\n      <td>19</td>\n      <td>33</td>\n      <td>37</td>\n    </tr>\n  </tbody>\n</table>\n</div>"
          },
          "metadata": {}
        }
      ]
    },
    {
      "metadata": {
        "_uuid": "28343fbf8e498db104dddc57ab133c31d0445b65"
      },
      "cell_type": "markdown",
      "source": "## Cleaning market data\n\nThere are various problems in market data. \n1. There seem to be some erroneous opening prices (max closing price 1578.13 vs max opening price 9998.99)\n2. There is one asset that has two asset codes: \"TW.N\" and \"WW.N\", where the last one is erroneous.\n\n\n<br>Used kernel:  https://www.kaggle.com/danielson/cleaning-up-market-data-errors-and-stock-splits"
    },
    {
      "metadata": {
        "trusted": true,
        "_uuid": "2c05bf83aad6dca2de54babc0b325c1d56656c90"
      },
      "cell_type": "code",
      "source": "market_train_df.describe().round(3)",
      "execution_count": 6,
      "outputs": [
        {
          "output_type": "execute_result",
          "execution_count": 6,
          "data": {
            "text/plain": "             volume     ...          universe\ncount  1.718492e+06     ...       1718492.000\nmean   2.429024e+06     ...             0.582\nstd    5.769091e+06     ...             0.493\nmin    0.000000e+00     ...             0.000\n25%    4.777390e+05     ...             0.000\n50%    9.767150e+05     ...             1.000\n75%    2.265774e+06     ...             1.000\nmax    6.182376e+08     ...             1.000\n\n[8 rows x 13 columns]",
            "text/html": "<div>\n<style scoped>\n    .dataframe tbody tr th:only-of-type {\n        vertical-align: middle;\n    }\n\n    .dataframe tbody tr th {\n        vertical-align: top;\n    }\n\n    .dataframe thead th {\n        text-align: right;\n    }\n</style>\n<table border=\"1\" class=\"dataframe\">\n  <thead>\n    <tr style=\"text-align: right;\">\n      <th></th>\n      <th>volume</th>\n      <th>close</th>\n      <th>open</th>\n      <th>returnsClosePrevRaw1</th>\n      <th>returnsOpenPrevRaw1</th>\n      <th>returnsClosePrevMktres1</th>\n      <th>returnsOpenPrevMktres1</th>\n      <th>returnsClosePrevRaw10</th>\n      <th>returnsOpenPrevRaw10</th>\n      <th>returnsClosePrevMktres10</th>\n      <th>returnsOpenPrevMktres10</th>\n      <th>returnsOpenNextMktres10</th>\n      <th>universe</th>\n    </tr>\n  </thead>\n  <tbody>\n    <tr>\n      <th>count</th>\n      <td>1.718492e+06</td>\n      <td>1718492.000</td>\n      <td>1718492.000</td>\n      <td>1718492.000</td>\n      <td>1718492.000</td>\n      <td>1711821.000</td>\n      <td>1711813.000</td>\n      <td>1718492.000</td>\n      <td>1718492.000</td>\n      <td>1682789.000</td>\n      <td>1682745.000</td>\n      <td>1718492.000</td>\n      <td>1718492.000</td>\n    </tr>\n    <tr>\n      <th>mean</th>\n      <td>2.429024e+06</td>\n      <td>47.221</td>\n      <td>47.211</td>\n      <td>0.001</td>\n      <td>0.001</td>\n      <td>0.000</td>\n      <td>0.000</td>\n      <td>0.006</td>\n      <td>0.006</td>\n      <td>-0.001</td>\n      <td>-0.000</td>\n      <td>-0.001</td>\n      <td>0.582</td>\n    </tr>\n    <tr>\n      <th>std</th>\n      <td>5.769091e+06</td>\n      <td>53.248</td>\n      <td>53.247</td>\n      <td>0.043</td>\n      <td>0.023</td>\n      <td>0.041</td>\n      <td>0.021</td>\n      <td>0.081</td>\n      <td>0.072</td>\n      <td>0.074</td>\n      <td>0.065</td>\n      <td>0.066</td>\n      <td>0.493</td>\n    </tr>\n    <tr>\n      <th>min</th>\n      <td>0.000000e+00</td>\n      <td>0.461</td>\n      <td>0.462</td>\n      <td>-0.978</td>\n      <td>-0.862</td>\n      <td>-1.236</td>\n      <td>-0.773</td>\n      <td>-0.977</td>\n      <td>-0.857</td>\n      <td>-3.343</td>\n      <td>-1.225</td>\n      <td>-1.232</td>\n      <td>0.000</td>\n    </tr>\n    <tr>\n      <th>25%</th>\n      <td>4.777390e+05</td>\n      <td>19.540</td>\n      <td>19.540</td>\n      <td>-0.009</td>\n      <td>-0.009</td>\n      <td>-0.008</td>\n      <td>-0.008</td>\n      <td>-0.028</td>\n      <td>-0.028</td>\n      <td>-0.028</td>\n      <td>-0.028</td>\n      <td>-0.028</td>\n      <td>0.000</td>\n    </tr>\n    <tr>\n      <th>50%</th>\n      <td>9.767150e+05</td>\n      <td>35.360</td>\n      <td>35.350</td>\n      <td>0.001</td>\n      <td>0.001</td>\n      <td>-0.000</td>\n      <td>0.000</td>\n      <td>0.005</td>\n      <td>0.005</td>\n      <td>-0.000</td>\n      <td>0.000</td>\n      <td>-0.000</td>\n      <td>1.000</td>\n    </tr>\n    <tr>\n      <th>75%</th>\n      <td>2.265774e+06</td>\n      <td>59.190</td>\n      <td>59.160</td>\n      <td>0.010</td>\n      <td>0.010</td>\n      <td>0.007</td>\n      <td>0.009</td>\n      <td>0.038</td>\n      <td>0.038</td>\n      <td>0.026</td>\n      <td>0.027</td>\n      <td>0.027</td>\n      <td>1.000</td>\n    </tr>\n    <tr>\n      <th>max</th>\n      <td>6.182376e+08</td>\n      <td>1578.130</td>\n      <td>1584.440</td>\n      <td>45.592</td>\n      <td>3.868</td>\n      <td>45.122</td>\n      <td>3.782</td>\n      <td>46.672</td>\n      <td>4.247</td>\n      <td>46.250</td>\n      <td>4.028</td>\n      <td>4.028</td>\n      <td>1.000</td>\n    </tr>\n  </tbody>\n</table>\n</div>"
          },
          "metadata": {}
        }
      ]
    },
    {
      "metadata": {
        "_uuid": "270fdd7221979ba343e7d45a82f816d7863a3488"
      },
      "cell_type": "markdown",
      "source": "### 1. Fix the errors of returnsClosePrevRaw1  \n\nFrom previous table, we can see that max open price is 9998.99 and closing price only 1578 - we should look into this. The returnsClosePrevRaw1 column shows us the daily drop or increase in stock price, from max value we get that biggest rise was 45.59 (4559% !!) and min shows that one stock decreased in value almost 100% in one day (-0.978 = -98%). "
    },
    {
      "metadata": {
        "trusted": true,
        "_uuid": "92fb6ab715699d9105accd985b2d383298c020a5"
      },
      "cell_type": "code",
      "source": "# let's have a look on rows, that have more that 70% drop in one day\nmarket_train_df[market_train_df['returnsClosePrevRaw1'] < -.7] \n\n#We can see that 4 of those have same date - 2016.07.07, let's take closer look on surrounding dates for these assets",
      "execution_count": 7,
      "outputs": [
        {
          "output_type": "execute_result",
          "execution_count": 7,
          "data": {
            "text/plain": "                             time assetCode     ...     universe        date\n3474114 2015-09-09 22:00:00+00:00    TTPH.O     ...          0.0  2015-09-09\n3607400 2015-12-28 22:00:00+00:00    CMRX.O     ...          0.0  2015-12-28\n3847265 2016-07-07 22:00:00+00:00    FLEX.O     ...          1.0  2016-07-07\n3847633 2016-07-07 22:00:00+00:00     MAT.O     ...          1.0  2016-07-07\n3848074 2016-07-07 22:00:00+00:00    SHLD.O     ...          0.0  2016-07-07\n3848433 2016-07-07 22:00:00+00:00    ZNGA.O     ...          0.0  2016-07-07\n3938226 2016-09-16 22:00:00+00:00    NVAX.O     ...          0.0  2016-09-16\n\n[7 rows x 17 columns]",
            "text/html": "<div>\n<style scoped>\n    .dataframe tbody tr th:only-of-type {\n        vertical-align: middle;\n    }\n\n    .dataframe tbody tr th {\n        vertical-align: top;\n    }\n\n    .dataframe thead th {\n        text-align: right;\n    }\n</style>\n<table border=\"1\" class=\"dataframe\">\n  <thead>\n    <tr style=\"text-align: right;\">\n      <th></th>\n      <th>time</th>\n      <th>assetCode</th>\n      <th>assetName</th>\n      <th>volume</th>\n      <th>close</th>\n      <th>open</th>\n      <th>returnsClosePrevRaw1</th>\n      <th>returnsOpenPrevRaw1</th>\n      <th>returnsClosePrevMktres1</th>\n      <th>returnsOpenPrevMktres1</th>\n      <th>returnsClosePrevRaw10</th>\n      <th>returnsOpenPrevRaw10</th>\n      <th>returnsClosePrevMktres10</th>\n      <th>returnsOpenPrevMktres10</th>\n      <th>returnsOpenNextMktres10</th>\n      <th>universe</th>\n      <th>date</th>\n    </tr>\n  </thead>\n  <tbody>\n    <tr>\n      <th>3474114</th>\n      <td>2015-09-09 22:00:00+00:00</td>\n      <td>TTPH.O</td>\n      <td>Tetraphase Pharmaceuticals Inc</td>\n      <td>23468076.0</td>\n      <td>9.49</td>\n      <td>9.64</td>\n      <td>-0.788075</td>\n      <td>-0.778340</td>\n      <td>-0.755343</td>\n      <td>-0.729875</td>\n      <td>-0.753826</td>\n      <td>-0.752821</td>\n      <td>-0.717449</td>\n      <td>-0.675231</td>\n      <td>0.064186</td>\n      <td>0.0</td>\n      <td>2015-09-09</td>\n    </tr>\n    <tr>\n      <th>3607400</th>\n      <td>2015-12-28 22:00:00+00:00</td>\n      <td>CMRX.O</td>\n      <td>Chimerix Inc</td>\n      <td>26705567.0</td>\n      <td>6.62</td>\n      <td>7.86</td>\n      <td>-0.813888</td>\n      <td>-0.778279</td>\n      <td>-0.811852</td>\n      <td>-0.773448</td>\n      <td>-0.812305</td>\n      <td>-0.780263</td>\n      <td>-0.794776</td>\n      <td>-0.784926</td>\n      <td>-0.163051</td>\n      <td>0.0</td>\n      <td>2015-12-28</td>\n    </tr>\n    <tr>\n      <th>3847265</th>\n      <td>2016-07-07 22:00:00+00:00</td>\n      <td>FLEX.O</td>\n      <td>Flex Ltd</td>\n      <td>4481469.0</td>\n      <td>11.80</td>\n      <td>11.81</td>\n      <td>-0.904415</td>\n      <td>-0.281630</td>\n      <td>-0.886907</td>\n      <td>-0.273703</td>\n      <td>-0.097859</td>\n      <td>-0.091538</td>\n      <td>-0.223552</td>\n      <td>-0.093630</td>\n      <td>-0.011186</td>\n      <td>1.0</td>\n      <td>2016-07-07</td>\n    </tr>\n    <tr>\n      <th>3847633</th>\n      <td>2016-07-07 22:00:00+00:00</td>\n      <td>MAT.O</td>\n      <td>Mattel Inc</td>\n      <td>2091099.0</td>\n      <td>32.34</td>\n      <td>32.14</td>\n      <td>-0.738032</td>\n      <td>0.492108</td>\n      <td>-0.731417</td>\n      <td>0.463413</td>\n      <td>0.006536</td>\n      <td>-0.001243</td>\n      <td>-0.040354</td>\n      <td>-0.003972</td>\n      <td>-0.077818</td>\n      <td>1.0</td>\n      <td>2016-07-07</td>\n    </tr>\n    <tr>\n      <th>3848074</th>\n      <td>2016-07-07 22:00:00+00:00</td>\n      <td>SHLD.O</td>\n      <td>Sears Holdings Corp</td>\n      <td>497204.0</td>\n      <td>13.40</td>\n      <td>13.27</td>\n      <td>-0.891472</td>\n      <td>0.501131</td>\n      <td>-0.875653</td>\n      <td>0.480682</td>\n      <td>-0.022611</td>\n      <td>-0.058865</td>\n      <td>-0.133526</td>\n      <td>-0.057434</td>\n      <td>0.032036</td>\n      <td>0.0</td>\n      <td>2016-07-07</td>\n    </tr>\n    <tr>\n      <th>3848433</th>\n      <td>2016-07-07 22:00:00+00:00</td>\n      <td>ZNGA.O</td>\n      <td>Zynga Inc</td>\n      <td>34888980.0</td>\n      <td>2.76</td>\n      <td>2.73</td>\n      <td>-0.977646</td>\n      <td>-0.252055</td>\n      <td>-0.899473</td>\n      <td>-0.242279</td>\n      <td>0.086614</td>\n      <td>0.058140</td>\n      <td>-0.614571</td>\n      <td>0.047817</td>\n      <td>-0.045813</td>\n      <td>0.0</td>\n      <td>2016-07-07</td>\n    </tr>\n    <tr>\n      <th>3938226</th>\n      <td>2016-09-16 22:00:00+00:00</td>\n      <td>NVAX.O</td>\n      <td>Novavax Inc</td>\n      <td>242232485.0</td>\n      <td>1.29</td>\n      <td>1.17</td>\n      <td>-0.845324</td>\n      <td>-0.862028</td>\n      <td>-0.835574</td>\n      <td>-0.763006</td>\n      <td>-0.810850</td>\n      <td>-0.829197</td>\n      <td>-0.832264</td>\n      <td>-0.868582</td>\n      <td>0.497091</td>\n      <td>0.0</td>\n      <td>2016-09-16</td>\n    </tr>\n  </tbody>\n</table>\n</div>"
          },
          "metadata": {}
        }
      ]
    },
    {
      "metadata": {
        "trusted": true,
        "_uuid": "bacec1f0233120d1b1fa810713bbfe76aeb2dc40"
      },
      "cell_type": "code",
      "source": "someAssetsWithBadData = ['FLEX.O','MAT.O','SHLD.O','ZNGA.O']\nsomeMarketData = market_train_df[(market_train_df['assetCode'].isin(someAssetsWithBadData)) \n                & (market_train_df['time'] >= '2016-07-05')\n                & (market_train_df['time'] < '2016-07-08')].sort_values('assetCode')\nsomeMarketData\n\n#From here we get that, all these have similar close value on 6th - 123.45 and 123.47.\n# I would have a look on all data between these dates, seems like input error. close-open >=10",
      "execution_count": 8,
      "outputs": [
        {
          "output_type": "execute_result",
          "execution_count": 8,
          "data": {
            "text/plain": "                             time assetCode     ...     universe        date\n3843668 2016-07-05 22:00:00+00:00    FLEX.O     ...          1.0  2016-07-05\n3845467 2016-07-06 22:00:00+00:00    FLEX.O     ...          1.0  2016-07-06\n3847265 2016-07-07 22:00:00+00:00    FLEX.O     ...          1.0  2016-07-07\n3844037 2016-07-05 22:00:00+00:00     MAT.O     ...          1.0  2016-07-05\n3845835 2016-07-06 22:00:00+00:00     MAT.O     ...          1.0  2016-07-06\n3847633 2016-07-07 22:00:00+00:00     MAT.O     ...          1.0  2016-07-07\n3844479 2016-07-05 22:00:00+00:00    SHLD.O     ...          0.0  2016-07-05\n3846276 2016-07-06 22:00:00+00:00    SHLD.O     ...          0.0  2016-07-06\n3848074 2016-07-07 22:00:00+00:00    SHLD.O     ...          0.0  2016-07-07\n3844838 2016-07-05 22:00:00+00:00    ZNGA.O     ...          0.0  2016-07-05\n3846636 2016-07-06 22:00:00+00:00    ZNGA.O     ...          0.0  2016-07-06\n3848433 2016-07-07 22:00:00+00:00    ZNGA.O     ...          0.0  2016-07-07\n\n[12 rows x 17 columns]",
            "text/html": "<div>\n<style scoped>\n    .dataframe tbody tr th:only-of-type {\n        vertical-align: middle;\n    }\n\n    .dataframe tbody tr th {\n        vertical-align: top;\n    }\n\n    .dataframe thead th {\n        text-align: right;\n    }\n</style>\n<table border=\"1\" class=\"dataframe\">\n  <thead>\n    <tr style=\"text-align: right;\">\n      <th></th>\n      <th>time</th>\n      <th>assetCode</th>\n      <th>assetName</th>\n      <th>volume</th>\n      <th>close</th>\n      <th>open</th>\n      <th>returnsClosePrevRaw1</th>\n      <th>returnsOpenPrevRaw1</th>\n      <th>returnsClosePrevMktres1</th>\n      <th>returnsOpenPrevMktres1</th>\n      <th>returnsClosePrevRaw10</th>\n      <th>returnsOpenPrevRaw10</th>\n      <th>returnsClosePrevMktres10</th>\n      <th>returnsOpenPrevMktres10</th>\n      <th>returnsOpenNextMktres10</th>\n      <th>universe</th>\n      <th>date</th>\n    </tr>\n  </thead>\n  <tbody>\n    <tr>\n      <th>3843668</th>\n      <td>2016-07-05 22:00:00+00:00</td>\n      <td>FLEX.O</td>\n      <td>Flex Ltd</td>\n      <td>3839393.0</td>\n      <td>11.66</td>\n      <td>11.70</td>\n      <td>-0.010187</td>\n      <td>-0.005102</td>\n      <td>-0.000815</td>\n      <td>-0.003561</td>\n      <td>-0.101695</td>\n      <td>-0.090909</td>\n      <td>-0.103166</td>\n      <td>-0.097041</td>\n      <td>-0.247207</td>\n      <td>1.0</td>\n      <td>2016-07-05</td>\n    </tr>\n    <tr>\n      <th>3845467</th>\n      <td>2016-07-06 22:00:00+00:00</td>\n      <td>FLEX.O</td>\n      <td>Flex Ltd</td>\n      <td>175451.0</td>\n      <td>123.45</td>\n      <td>16.44</td>\n      <td>9.587479</td>\n      <td>0.405128</td>\n      <td>9.482848</td>\n      <td>0.404713</td>\n      <td>8.503464</td>\n      <td>0.254962</td>\n      <td>8.425788</td>\n      <td>0.255200</td>\n      <td>0.087592</td>\n      <td>1.0</td>\n      <td>2016-07-06</td>\n    </tr>\n    <tr>\n      <th>3847265</th>\n      <td>2016-07-07 22:00:00+00:00</td>\n      <td>FLEX.O</td>\n      <td>Flex Ltd</td>\n      <td>4481469.0</td>\n      <td>11.80</td>\n      <td>11.81</td>\n      <td>-0.904415</td>\n      <td>-0.281630</td>\n      <td>-0.886907</td>\n      <td>-0.273703</td>\n      <td>-0.097859</td>\n      <td>-0.091538</td>\n      <td>-0.223552</td>\n      <td>-0.093630</td>\n      <td>-0.011186</td>\n      <td>1.0</td>\n      <td>2016-07-07</td>\n    </tr>\n    <tr>\n      <th>3844037</th>\n      <td>2016-07-05 22:00:00+00:00</td>\n      <td>MAT.O</td>\n      <td>Mattel Inc</td>\n      <td>3333108.0</td>\n      <td>31.62</td>\n      <td>31.46</td>\n      <td>0.002219</td>\n      <td>0.005433</td>\n      <td>0.014722</td>\n      <td>0.008522</td>\n      <td>-0.024676</td>\n      <td>-0.019021</td>\n      <td>-0.027185</td>\n      <td>-0.029008</td>\n      <td>0.396756</td>\n      <td>1.0</td>\n      <td>2016-07-05</td>\n    </tr>\n    <tr>\n      <th>3845835</th>\n      <td>2016-07-06 22:00:00+00:00</td>\n      <td>MAT.O</td>\n      <td>Mattel Inc</td>\n      <td>56994.0</td>\n      <td>123.45</td>\n      <td>21.54</td>\n      <td>2.904175</td>\n      <td>-0.315321</td>\n      <td>2.864919</td>\n      <td>-0.304480</td>\n      <td>2.842204</td>\n      <td>-0.334363</td>\n      <td>2.812233</td>\n      <td>-0.334071</td>\n      <td>-0.069237</td>\n      <td>1.0</td>\n      <td>2016-07-06</td>\n    </tr>\n    <tr>\n      <th>3847633</th>\n      <td>2016-07-07 22:00:00+00:00</td>\n      <td>MAT.O</td>\n      <td>Mattel Inc</td>\n      <td>2091099.0</td>\n      <td>32.34</td>\n      <td>32.14</td>\n      <td>-0.738032</td>\n      <td>0.492108</td>\n      <td>-0.731417</td>\n      <td>0.463413</td>\n      <td>0.006536</td>\n      <td>-0.001243</td>\n      <td>-0.040354</td>\n      <td>-0.003972</td>\n      <td>-0.077818</td>\n      <td>1.0</td>\n      <td>2016-07-07</td>\n    </tr>\n    <tr>\n      <th>3844479</th>\n      <td>2016-07-05 22:00:00+00:00</td>\n      <td>SHLD.O</td>\n      <td>Sears Holdings Corp</td>\n      <td>388228.0</td>\n      <td>12.98</td>\n      <td>13.63</td>\n      <td>-0.065515</td>\n      <td>0.009630</td>\n      <td>-0.054871</td>\n      <td>0.010488</td>\n      <td>-0.070201</td>\n      <td>-0.046853</td>\n      <td>-0.072216</td>\n      <td>-0.058148</td>\n      <td>0.541448</td>\n      <td>0.0</td>\n      <td>2016-07-05</td>\n    </tr>\n    <tr>\n      <th>3846276</th>\n      <td>2016-07-06 22:00:00+00:00</td>\n      <td>SHLD.O</td>\n      <td>Sears Holdings Corp</td>\n      <td>80940.0</td>\n      <td>123.47</td>\n      <td>8.84</td>\n      <td>8.512327</td>\n      <td>-0.351431</td>\n      <td>8.417827</td>\n      <td>-0.345786</td>\n      <td>7.781650</td>\n      <td>-0.370819</td>\n      <td>7.710716</td>\n      <td>-0.370630</td>\n      <td>0.059298</td>\n      <td>0.0</td>\n      <td>2016-07-06</td>\n    </tr>\n    <tr>\n      <th>3848074</th>\n      <td>2016-07-07 22:00:00+00:00</td>\n      <td>SHLD.O</td>\n      <td>Sears Holdings Corp</td>\n      <td>497204.0</td>\n      <td>13.40</td>\n      <td>13.27</td>\n      <td>-0.891472</td>\n      <td>0.501131</td>\n      <td>-0.875653</td>\n      <td>0.480682</td>\n      <td>-0.022611</td>\n      <td>-0.058865</td>\n      <td>-0.133526</td>\n      <td>-0.057434</td>\n      <td>0.032036</td>\n      <td>0.0</td>\n      <td>2016-07-07</td>\n    </tr>\n    <tr>\n      <th>3844838</th>\n      <td>2016-07-05 22:00:00+00:00</td>\n      <td>ZNGA.O</td>\n      <td>Zynga Inc</td>\n      <td>9732445.0</td>\n      <td>2.65</td>\n      <td>2.60</td>\n      <td>0.039216</td>\n      <td>0.044177</td>\n      <td>0.048598</td>\n      <td>0.045064</td>\n      <td>0.031128</td>\n      <td>0.044177</td>\n      <td>0.026816</td>\n      <td>0.029699</td>\n      <td>-0.306158</td>\n      <td>0.0</td>\n      <td>2016-07-05</td>\n    </tr>\n    <tr>\n      <th>3846636</th>\n      <td>2016-07-06 22:00:00+00:00</td>\n      <td>ZNGA.O</td>\n      <td>Zynga Inc</td>\n      <td>418847.0</td>\n      <td>123.47</td>\n      <td>3.65</td>\n      <td>45.592453</td>\n      <td>0.403846</td>\n      <td>45.122435</td>\n      <td>0.401845</td>\n      <td>46.671815</td>\n      <td>0.420233</td>\n      <td>46.249715</td>\n      <td>0.420887</td>\n      <td>-0.045244</td>\n      <td>0.0</td>\n      <td>2016-07-06</td>\n    </tr>\n    <tr>\n      <th>3848433</th>\n      <td>2016-07-07 22:00:00+00:00</td>\n      <td>ZNGA.O</td>\n      <td>Zynga Inc</td>\n      <td>34888980.0</td>\n      <td>2.76</td>\n      <td>2.73</td>\n      <td>-0.977646</td>\n      <td>-0.252055</td>\n      <td>-0.899473</td>\n      <td>-0.242279</td>\n      <td>0.086614</td>\n      <td>0.058140</td>\n      <td>-0.614571</td>\n      <td>0.047817</td>\n      <td>-0.045813</td>\n      <td>0.0</td>\n      <td>2016-07-07</td>\n    </tr>\n  </tbody>\n</table>\n</div>"
          },
          "metadata": {}
        }
      ]
    },
    {
      "metadata": {
        "trusted": true,
        "_uuid": "a714fc4f11ca6b32e6381297e68df768e9980c1b"
      },
      "cell_type": "code",
      "source": "#difference between close/open price is more than 10 (change in one day)\nsomeMarketData2 = market_train_df[(market_train_df['time'] >= '2016-07-05') & (market_train_df['time'] < '2016-07-08') \n                                  & (market_train_df['close'] - market_train_df['open'] >=10)].sort_values('assetCode')\nAssetsWithBadData=someMarketData2[(someMarketData2['close'] == 123.45)|(someMarketData2['close'] == 123.47)]['assetCode']\nsomeMarketData2",
      "execution_count": 9,
      "outputs": [
        {
          "output_type": "execute_result",
          "execution_count": 9,
          "data": {
            "text/plain": "                             time assetCode     ...     universe        date\n3844944 2016-07-06 22:00:00+00:00    AMZN.O     ...          1.0  2016-07-06\n3845015 2016-07-06 22:00:00+00:00    BBBY.O     ...          1.0  2016-07-06\n3845309 2016-07-06 22:00:00+00:00    DISH.O     ...          1.0  2016-07-06\n3845467 2016-07-06 22:00:00+00:00    FLEX.O     ...          1.0  2016-07-06\n3845835 2016-07-06 22:00:00+00:00     MAT.O     ...          1.0  2016-07-06\n3845946 2016-07-06 22:00:00+00:00    NDAQ.O     ...          1.0  2016-07-06\n3846067 2016-07-06 22:00:00+00:00    PCAR.O     ...          1.0  2016-07-06\n3844271 2016-07-05 22:00:00+00:00    PCLN.O     ...          1.0  2016-07-05\n3846069 2016-07-06 22:00:00+00:00    PCLN.O     ...          1.0  2016-07-06\n3846151 2016-07-06 22:00:00+00:00    PZZA.O     ...          0.0  2016-07-06\n3846186 2016-07-06 22:00:00+00:00    REGN.O     ...          1.0  2016-07-06\n3846276 2016-07-06 22:00:00+00:00    SHLD.O     ...          0.0  2016-07-06\n3846636 2016-07-06 22:00:00+00:00    ZNGA.O     ...          0.0  2016-07-06\n\n[13 rows x 17 columns]",
            "text/html": "<div>\n<style scoped>\n    .dataframe tbody tr th:only-of-type {\n        vertical-align: middle;\n    }\n\n    .dataframe tbody tr th {\n        vertical-align: top;\n    }\n\n    .dataframe thead th {\n        text-align: right;\n    }\n</style>\n<table border=\"1\" class=\"dataframe\">\n  <thead>\n    <tr style=\"text-align: right;\">\n      <th></th>\n      <th>time</th>\n      <th>assetCode</th>\n      <th>assetName</th>\n      <th>volume</th>\n      <th>close</th>\n      <th>open</th>\n      <th>returnsClosePrevRaw1</th>\n      <th>returnsOpenPrevRaw1</th>\n      <th>returnsClosePrevMktres1</th>\n      <th>returnsOpenPrevMktres1</th>\n      <th>returnsClosePrevRaw10</th>\n      <th>returnsOpenPrevRaw10</th>\n      <th>returnsClosePrevMktres10</th>\n      <th>returnsOpenPrevMktres10</th>\n      <th>returnsOpenNextMktres10</th>\n      <th>universe</th>\n      <th>date</th>\n    </tr>\n  </thead>\n  <tbody>\n    <tr>\n      <th>3844944</th>\n      <td>2016-07-06 22:00:00+00:00</td>\n      <td>AMZN.O</td>\n      <td>Amazon.com Inc</td>\n      <td>3938249.0</td>\n      <td>737.61</td>\n      <td>725.71</td>\n      <td>0.013061</td>\n      <td>0.004026</td>\n      <td>0.008342</td>\n      <td>0.004942</td>\n      <td>0.030441</td>\n      <td>0.013958</td>\n      <td>0.024262</td>\n      <td>0.014334</td>\n      <td>-0.020081</td>\n      <td>1.0</td>\n      <td>2016-07-06</td>\n    </tr>\n    <tr>\n      <th>3845015</th>\n      <td>2016-07-06 22:00:00+00:00</td>\n      <td>BBBY.O</td>\n      <td>Bed Bath &amp; Beyond Inc</td>\n      <td>50303.0</td>\n      <td>123.45</td>\n      <td>30.68</td>\n      <td>1.921202</td>\n      <td>-0.295522</td>\n      <td>1.897847</td>\n      <td>-0.291610</td>\n      <td>1.849065</td>\n      <td>-0.303044</td>\n      <td>1.826249</td>\n      <td>-0.302549</td>\n      <td>-0.047101</td>\n      <td>1.0</td>\n      <td>2016-07-06</td>\n    </tr>\n    <tr>\n      <th>3845309</th>\n      <td>2016-07-06 22:00:00+00:00</td>\n      <td>DISH.O</td>\n      <td>DISH Network Corp</td>\n      <td>87466.0</td>\n      <td>123.47</td>\n      <td>63.29</td>\n      <td>1.430033</td>\n      <td>0.206903</td>\n      <td>1.407708</td>\n      <td>0.208864</td>\n      <td>1.325673</td>\n      <td>0.187207</td>\n      <td>1.295536</td>\n      <td>0.188725</td>\n      <td>-0.030583</td>\n      <td>1.0</td>\n      <td>2016-07-06</td>\n    </tr>\n    <tr>\n      <th>3845467</th>\n      <td>2016-07-06 22:00:00+00:00</td>\n      <td>FLEX.O</td>\n      <td>Flex Ltd</td>\n      <td>175451.0</td>\n      <td>123.45</td>\n      <td>16.44</td>\n      <td>9.587479</td>\n      <td>0.405128</td>\n      <td>9.482848</td>\n      <td>0.404713</td>\n      <td>8.503464</td>\n      <td>0.254962</td>\n      <td>8.425788</td>\n      <td>0.255200</td>\n      <td>0.087592</td>\n      <td>1.0</td>\n      <td>2016-07-06</td>\n    </tr>\n    <tr>\n      <th>3845835</th>\n      <td>2016-07-06 22:00:00+00:00</td>\n      <td>MAT.O</td>\n      <td>Mattel Inc</td>\n      <td>56994.0</td>\n      <td>123.45</td>\n      <td>21.54</td>\n      <td>2.904175</td>\n      <td>-0.315321</td>\n      <td>2.864919</td>\n      <td>-0.304480</td>\n      <td>2.842204</td>\n      <td>-0.334363</td>\n      <td>2.812233</td>\n      <td>-0.334071</td>\n      <td>-0.069237</td>\n      <td>1.0</td>\n      <td>2016-07-06</td>\n    </tr>\n    <tr>\n      <th>3845946</th>\n      <td>2016-07-06 22:00:00+00:00</td>\n      <td>NDAQ.O</td>\n      <td>Nasdaq Inc</td>\n      <td>113350.0</td>\n      <td>123.47</td>\n      <td>71.51</td>\n      <td>0.911596</td>\n      <td>0.122254</td>\n      <td>0.897776</td>\n      <td>0.122543</td>\n      <td>0.960775</td>\n      <td>0.135801</td>\n      <td>0.946862</td>\n      <td>0.136170</td>\n      <td>0.001852</td>\n      <td>1.0</td>\n      <td>2016-07-06</td>\n    </tr>\n    <tr>\n      <th>3846067</th>\n      <td>2016-07-06 22:00:00+00:00</td>\n      <td>PCAR.O</td>\n      <td>Paccar Inc</td>\n      <td>63374.0</td>\n      <td>123.45</td>\n      <td>66.41</td>\n      <td>1.445523</td>\n      <td>0.285521</td>\n      <td>1.420271</td>\n      <td>0.288671</td>\n      <td>1.261818</td>\n      <td>0.218979</td>\n      <td>1.242209</td>\n      <td>0.219653</td>\n      <td>0.030409</td>\n      <td>1.0</td>\n      <td>2016-07-06</td>\n    </tr>\n    <tr>\n      <th>3844271</th>\n      <td>2016-07-05 22:00:00+00:00</td>\n      <td>PCLN.O</td>\n      <td>Booking Holdings Inc</td>\n      <td>568815.0</td>\n      <td>1275.03</td>\n      <td>1259.56</td>\n      <td>0.006044</td>\n      <td>0.008447</td>\n      <td>0.021392</td>\n      <td>0.010721</td>\n      <td>-0.049875</td>\n      <td>-0.048412</td>\n      <td>-0.054914</td>\n      <td>-0.064660</td>\n      <td>-0.023824</td>\n      <td>1.0</td>\n      <td>2016-07-05</td>\n    </tr>\n    <tr>\n      <th>3846069</th>\n      <td>2016-07-06 22:00:00+00:00</td>\n      <td>PCLN.O</td>\n      <td>Booking Holdings Inc</td>\n      <td>562266.0</td>\n      <td>1292.04</td>\n      <td>1269.86</td>\n      <td>0.013341</td>\n      <td>0.008177</td>\n      <td>0.001566</td>\n      <td>0.013722</td>\n      <td>-0.037981</td>\n      <td>-0.055410</td>\n      <td>-0.047257</td>\n      <td>-0.054742</td>\n      <td>-0.018944</td>\n      <td>1.0</td>\n      <td>2016-07-06</td>\n    </tr>\n    <tr>\n      <th>3846151</th>\n      <td>2016-07-06 22:00:00+00:00</td>\n      <td>PZZA.O</td>\n      <td>Papa John's International Inc</td>\n      <td>25050.0</td>\n      <td>123.45</td>\n      <td>71.89</td>\n      <td>0.817580</td>\n      <td>0.056429</td>\n      <td>0.805544</td>\n      <td>0.056785</td>\n      <td>0.857229</td>\n      <td>0.076198</td>\n      <td>0.847870</td>\n      <td>0.076377</td>\n      <td>0.054807</td>\n      <td>0.0</td>\n      <td>2016-07-06</td>\n    </tr>\n    <tr>\n      <th>3846186</th>\n      <td>2016-07-06 22:00:00+00:00</td>\n      <td>REGN.O</td>\n      <td>Regeneron Pharmaceuticals Inc</td>\n      <td>1031214.0</td>\n      <td>371.57</td>\n      <td>357.90</td>\n      <td>0.033258</td>\n      <td>-0.012008</td>\n      <td>0.026234</td>\n      <td>-0.008994</td>\n      <td>0.076578</td>\n      <td>0.011017</td>\n      <td>0.065067</td>\n      <td>0.011779</td>\n      <td>-0.034822</td>\n      <td>1.0</td>\n      <td>2016-07-06</td>\n    </tr>\n    <tr>\n      <th>3846276</th>\n      <td>2016-07-06 22:00:00+00:00</td>\n      <td>SHLD.O</td>\n      <td>Sears Holdings Corp</td>\n      <td>80940.0</td>\n      <td>123.47</td>\n      <td>8.84</td>\n      <td>8.512327</td>\n      <td>-0.351431</td>\n      <td>8.417827</td>\n      <td>-0.345786</td>\n      <td>7.781650</td>\n      <td>-0.370819</td>\n      <td>7.710716</td>\n      <td>-0.370630</td>\n      <td>0.059298</td>\n      <td>0.0</td>\n      <td>2016-07-06</td>\n    </tr>\n    <tr>\n      <th>3846636</th>\n      <td>2016-07-06 22:00:00+00:00</td>\n      <td>ZNGA.O</td>\n      <td>Zynga Inc</td>\n      <td>418847.0</td>\n      <td>123.47</td>\n      <td>3.65</td>\n      <td>45.592453</td>\n      <td>0.403846</td>\n      <td>45.122435</td>\n      <td>0.401845</td>\n      <td>46.671815</td>\n      <td>0.420233</td>\n      <td>46.249715</td>\n      <td>0.420887</td>\n      <td>-0.045244</td>\n      <td>0.0</td>\n      <td>2016-07-06</td>\n    </tr>\n  </tbody>\n</table>\n</div>"
          },
          "metadata": {}
        }
      ]
    },
    {
      "metadata": {
        "_uuid": "ca0e85e7c454bd2de6ad52479730dfda763e6a8b"
      },
      "cell_type": "markdown",
      "source": "Turns out there are 9 assets with same error, next we will need to fix these errors. \n\n\nAssets: BBBY.O, DISH.O, FLEX.O, MAT.O, NDAQ.O, PCAR.O, PZZA.O, SHLD.O, ZNGA.O"
    },
    {
      "metadata": {
        "trusted": true,
        "_uuid": "16386cd29f4811105669901cfc79d075ce8c5686"
      },
      "cell_type": "code",
      "source": "assets=['ZNGA.O','FLEX.O','SHLD.O','MAT.O','BBBY.O','DISH.O','NDAQ.O', 'PCAR.O', 'PZZA.O']\nfor asset in assets:\n    market_train_df = market_train_df[~((market_train_df['assetCode'] == asset)\n                                  & (market_train_df['time'] >= '2016-05-21')\n                                  & (market_train_df['time'] <= '2016-08-21'))]",
      "execution_count": 10,
      "outputs": []
    },
    {
      "metadata": {
        "_uuid": "84dc7bf9259c9485655e0cd9684c4454c09064b2"
      },
      "cell_type": "markdown",
      "source": "### 2. There is one asset that has two asset codes: \"TW.N\" and \"WW.N\", where the last one is erroneous."
    },
    {
      "metadata": {
        "trusted": true,
        "_uuid": "52acaefebc40ac15902a4ce9c1c2c0b8b061c667"
      },
      "cell_type": "code",
      "source": "# Fix asset code \"WW.N\" and remove the observations with erroneous return data\nmarket_train_df.loc[market_train_df['assetCode'] == 'WW.N','assetCode'] = 'TW.N'\nmarket_train_df = market_train_df[~((market_train_df['assetCode'] == 'TW.N')\n                                  & (market_train_df['time'] >= '2009-12-16')\n                                  & (market_train_df['time'] < '2010-01-08'))]",
      "execution_count": 11,
      "outputs": []
    },
    {
      "metadata": {
        "_uuid": "a884d1cebc1fcd85d826a6bf12c5c063f3aede18"
      },
      "cell_type": "markdown",
      "source": "\n### 3. Drop some more rows with erroneous data."
    },
    {
      "metadata": {
        "trusted": true,
        "_uuid": "1e30cbec5e7f432ce6405cc27d113430bfdc9fb9"
      },
      "cell_type": "code",
      "source": "# dropping Qorvo data through 2015-02-13\nmarket_train_df = market_train_df[~((market_train_df['assetCode'] == 'QRVO.O')\n                                  & (market_train_df['time'] < '2015-02-14'))]\n\n# dropping TECD.O data in Feb-May 2015\nmarket_train_df = market_train_df[~((market_train_df['assetCode'] == 'TECD.O')\n                                  & (market_train_df['time'] >= '2015-01-30')\n                                  & (market_train_df['time'] <= '2015-04-30'))]\n\n# dropping EBR.N data in Oct 2016\nmarket_train_df = market_train_df[~((market_train_df['assetCode'] == 'EBR.N')\n                                  & (market_train_df['time'] >= '2016-10-01'))]\n\n# dropping HGSI.O data in Feb and Mar 2016\nmarket_train_df = market_train_df[~((market_train_df['assetCode'] == 'HGSI.O')\n                                  & (market_train_df['time'] < '2009-04-01'))]",
      "execution_count": 12,
      "outputs": []
    },
    {
      "metadata": {
        "_uuid": "fc8e4bf6b1891b85a13e30d70bde44373341a6d8"
      },
      "cell_type": "markdown",
      "source": "\n## Joining the market and news data\n<br>\nMost of the code is copied from public kernel: https://www.kaggle.com/bguberfain/a-simple-model-using-the-market-and-news-data and then modified for the set-up for this project."
    },
    {
      "metadata": {
        "trusted": true,
        "_uuid": "6af7699235af59461f09e5d1971d6585c339127e"
      },
      "cell_type": "code",
      "source": "# Different metrics to be calculated by every day about each asset. Aggregates multiple articles about certain asset in one day. \nnews_cols_agg = {\n    'urgency': ['min', 'count'],\n    'takeSequence': ['max'],\n    'bodySize': ['min', 'max', 'mean', 'std'],\n    'wordCount': ['min', 'max', 'mean', 'std'],\n    'sentenceCount': ['min', 'max', 'mean', 'std'],\n    'companyCount': ['min', 'max', 'mean', 'std'],\n    'marketCommentary': ['min', 'max', 'mean', 'std'],\n    'relevance': ['min', 'max', 'mean', 'std'],\n    'sentimentNegative': ['min', 'max', 'mean', 'std'],\n    'sentimentNeutral': ['min', 'max', 'mean', 'std'],\n    'sentimentPositive': ['min', 'max', 'mean', 'std'],\n    'sentimentWordCount': ['min', 'max', 'mean', 'std'],\n    'noveltyCount12H': ['min', 'max', 'mean', 'std'],\n    'noveltyCount24H': ['min', 'max', 'mean', 'std'],\n    'noveltyCount3D': ['min', 'max', 'mean', 'std'],\n    'noveltyCount5D': ['min', 'max', 'mean', 'std'],\n    'noveltyCount7D': ['min', 'max', 'mean', 'std'],\n    'volumeCounts12H': ['min', 'max', 'mean', 'std'],\n    'volumeCounts24H': ['min', 'max', 'mean', 'std'],\n    'volumeCounts3D': ['min', 'max', 'mean', 'std'],\n    'volumeCounts5D': ['min', 'max', 'mean', 'std'],\n    'volumeCounts7D': ['min', 'max', 'mean', 'std']\n}",
      "execution_count": 13,
      "outputs": []
    },
    {
      "metadata": {
        "trusted": true,
        "_uuid": "f28c50856b5395b25593bf4cb6f5eb90d37875e7"
      },
      "cell_type": "code",
      "source": "def join_market_news(market_train_df, news_train_df):\n    # Fix asset codes (str -> list)\n    news_train_df['assetCodes2'] = news_train_df['assetCodes'].str.findall(f\"'([\\w\\./]+)'\")    \n    \n    # Expand assetCodes\n    assetCodes_expanded = list(chain(*news_train_df['assetCodes2']))\n    assetCodes_index = news_train_df.index.repeat( news_train_df['assetCodes2'].apply(len) )\n\n    assert len(assetCodes_index) == len(assetCodes_expanded)\n    df_assetCodes = pd.DataFrame({'level_0': assetCodes_index, 'assetCode': assetCodes_expanded})\n\n    # Create expandaded news (will repeat every assetCodes' row)\n    news_cols = ['time', 'assetCodes2'] + sorted(news_cols_agg.keys())\n    news_train_df_expanded = pd.merge(df_assetCodes, news_train_df[news_cols], left_on='level_0', right_index=True, suffixes=(['','_old']))\n\n    # Free memory\n    del news_train_df, df_assetCodes\n\n    # Aggregate numerical news features\n    news_train_df_aggregated = news_train_df_expanded.groupby(['time', 'assetCode']).agg(news_cols_agg)\n    \n    # Free memory\n    del news_train_df_expanded\n\n    # Convert to float32 to save memory\n    news_train_df_aggregated = news_train_df_aggregated.apply(np.float32)\n\n    # Flat columns\n    news_train_df_aggregated.columns = ['_'.join(col).strip() for col in news_train_df_aggregated.columns.values]\n\n    # Join with train\n    market_train_df = market_train_df.join(news_train_df_aggregated, on=['time', 'assetCode'])\n\n    # Free memory\n    del news_train_df_aggregated\n    \n    return market_train_df",
      "execution_count": 14,
      "outputs": []
    },
    {
      "metadata": {
        "trusted": true,
        "_uuid": "c5284f0659ec915f3f4a40f9d1040055af2e1988"
      },
      "cell_type": "code",
      "source": "def get_xy(market_train_df, news_train_df, le=None):\n    x, le = get_x(market_train_df, news_train_df)\n    y = market_train_df['returnsOpenNextMktres10'].clip(-1, 1)\n    return x, y, le\n\n\ndef label_encode(series, min_count):\n    vc = series.value_counts()\n    le = {c:i for i, c in enumerate(vc.index[vc >= min_count])}\n    return le\n\n\ndef get_x(market_train_df, news_train_df, le=None):\n    # Split date into before and after 22h (the time used in train data)\n    # E.g: 2007-03-07 23:26:39+00:00 -> 2007-03-08 00:00:00+00:00 (next day)\n    #      2009-02-25 21:00:50+00:00 -> 2009-02-25 00:00:00+00:00 (current day)\n    news_train_df['time'] = (news_train_df['time'] - np.timedelta64(22,'h')).dt.ceil('1D')\n\n    # Round time of market_train_df to 0h of curret day\n    market_train_df['time'] = market_train_df['time'].dt.floor('1D')\n\n    # Join market and news\n    x = join_market_news(market_train_df, news_train_df)\n    \n    # If not label-encoder... encode assetCode\n    if le is None:\n        le_assetCode = label_encode(x['assetCode'], min_count=1)\n        le_assetName = label_encode(x['assetName'], min_count=5)\n    else:\n        # 'unpack' label encoders\n        le_assetCode, le_assetName = le\n        \n    x['assetCode'] = x['assetCode'].map(le_assetCode).fillna(-1).astype(int)\n    x['assetName'] = x['assetName'].map(le_assetName).fillna(-1).astype(int)\n    \n    try:\n        x.drop(columns=['returnsOpenNextMktres10'], inplace=True)\n    except:\n        pass\n    try:\n        x.drop(columns=['universe'], inplace=True)\n    except:\n        pass\n    x['dayofweek'], x['month'] = x.time.dt.dayofweek, x.time.dt.month\n    x.drop(columns='time', inplace=True)\n#    x.fillna(-1000,inplace=True)\n\n    # Fix some mixed-type columns\n    for bogus_col in ['marketCommentary_min', 'marketCommentary_max']:\n        x[bogus_col] = x[bogus_col].astype(float)\n    \n    return x, (le_assetCode, le_assetName)",
      "execution_count": 15,
      "outputs": []
    },
    {
      "metadata": {
        "trusted": true,
        "_uuid": "31818cec7cd7ba1ba2fdef46594b8726424bdeb0"
      },
      "cell_type": "code",
      "source": "from itertools import chain\n\n# This will take some time...\nX, y, le = get_xy(market_train_df, news_train_df)",
      "execution_count": 16,
      "outputs": []
    },
    {
      "metadata": {
        "trusted": true,
        "_uuid": "34b6c7c162d1543c4ae3d66ae95be4f05224af70"
      },
      "cell_type": "code",
      "source": "# Save universe data for latter use\nuniverse = market_train_df['universe']",
      "execution_count": 17,
      "outputs": []
    },
    {
      "metadata": {
        "trusted": true,
        "_uuid": "628d6c8c5a345b6420b298ba0e80991a980416f8"
      },
      "cell_type": "code",
      "source": "n_train = int(X.shape[0] * 0.8)\n\nX_train, y_train = X.iloc[:n_train], y.iloc[:n_train]\nX_valid, y_valid = X.iloc[n_train:], y.iloc[n_train:]",
      "execution_count": 18,
      "outputs": []
    },
    {
      "metadata": {
        "trusted": true,
        "_uuid": "4b502b670ebdd7ea7c117c4c5df64b40edd9d492"
      },
      "cell_type": "code",
      "source": "# For valid data, keep only those with universe > 0. This will help calculate the metric\nu_valid = (universe.iloc[n_train:] > 0)\nt_valid = market_train_df['time'].iloc[n_train:]\n\nX_valid = X_valid[u_valid]\ny_valid = y_valid[u_valid]\nt_valid = t_valid[u_valid]\n\ndel u_valid",
      "execution_count": 19,
      "outputs": []
    },
    {
      "metadata": {
        "_uuid": "c19861f2f47df4bdcadb3c55f2c00c11a9d70122"
      },
      "cell_type": "markdown",
      "source": "## Trying to fit different models"
    },
    {
      "metadata": {
        "_uuid": "715da7dd2f75c8825e40f41d611a0c9dd022a640"
      },
      "cell_type": "markdown",
      "source": "In the merged dataset we have rows for assets at certain dates, as shorn in next table. Every row contains market data (returns, volumes), and if there was some media coverage then also aggregated information about news data.\n"
    },
    {
      "metadata": {
        "trusted": true,
        "_uuid": "9209b40caa9d742851e43e8bca0d30f1eb0aaff1"
      },
      "cell_type": "code",
      "source": "X.head()",
      "execution_count": 20,
      "outputs": [
        {
          "output_type": "execute_result",
          "execution_count": 20,
          "data": {
            "text/plain": "         assetCode  assetName  ...    dayofweek  month\n2354464        421        656  ...            2      1\n2354465        797        570  ...            2      1\n2354466        238        589  ...            2      1\n2354467        770        554  ...            2      1\n2354468       1202       1218  ...            2      1\n\n[5 rows x 99 columns]",
            "text/html": "<div>\n<style scoped>\n    .dataframe tbody tr th:only-of-type {\n        vertical-align: middle;\n    }\n\n    .dataframe tbody tr th {\n        vertical-align: top;\n    }\n\n    .dataframe thead th {\n        text-align: right;\n    }\n</style>\n<table border=\"1\" class=\"dataframe\">\n  <thead>\n    <tr style=\"text-align: right;\">\n      <th></th>\n      <th>assetCode</th>\n      <th>assetName</th>\n      <th>volume</th>\n      <th>close</th>\n      <th>open</th>\n      <th>returnsClosePrevRaw1</th>\n      <th>returnsOpenPrevRaw1</th>\n      <th>returnsClosePrevMktres1</th>\n      <th>returnsOpenPrevMktres1</th>\n      <th>returnsClosePrevRaw10</th>\n      <th>returnsOpenPrevRaw10</th>\n      <th>returnsClosePrevMktres10</th>\n      <th>returnsOpenPrevMktres10</th>\n      <th>date</th>\n      <th>urgency_min</th>\n      <th>urgency_count</th>\n      <th>takeSequence_max</th>\n      <th>bodySize_min</th>\n      <th>bodySize_max</th>\n      <th>bodySize_mean</th>\n      <th>bodySize_std</th>\n      <th>wordCount_min</th>\n      <th>wordCount_max</th>\n      <th>wordCount_mean</th>\n      <th>wordCount_std</th>\n      <th>sentenceCount_min</th>\n      <th>sentenceCount_max</th>\n      <th>sentenceCount_mean</th>\n      <th>sentenceCount_std</th>\n      <th>companyCount_min</th>\n      <th>companyCount_max</th>\n      <th>companyCount_mean</th>\n      <th>companyCount_std</th>\n      <th>marketCommentary_min</th>\n      <th>marketCommentary_max</th>\n      <th>marketCommentary_mean</th>\n      <th>marketCommentary_std</th>\n      <th>relevance_min</th>\n      <th>relevance_max</th>\n      <th>relevance_mean</th>\n      <th>...</th>\n      <th>noveltyCount12H_mean</th>\n      <th>noveltyCount12H_std</th>\n      <th>noveltyCount24H_min</th>\n      <th>noveltyCount24H_max</th>\n      <th>noveltyCount24H_mean</th>\n      <th>noveltyCount24H_std</th>\n      <th>noveltyCount3D_min</th>\n      <th>noveltyCount3D_max</th>\n      <th>noveltyCount3D_mean</th>\n      <th>noveltyCount3D_std</th>\n      <th>noveltyCount5D_min</th>\n      <th>noveltyCount5D_max</th>\n      <th>noveltyCount5D_mean</th>\n      <th>noveltyCount5D_std</th>\n      <th>noveltyCount7D_min</th>\n      <th>noveltyCount7D_max</th>\n      <th>noveltyCount7D_mean</th>\n      <th>noveltyCount7D_std</th>\n      <th>volumeCounts12H_min</th>\n      <th>volumeCounts12H_max</th>\n      <th>volumeCounts12H_mean</th>\n      <th>volumeCounts12H_std</th>\n      <th>volumeCounts24H_min</th>\n      <th>volumeCounts24H_max</th>\n      <th>volumeCounts24H_mean</th>\n      <th>volumeCounts24H_std</th>\n      <th>volumeCounts3D_min</th>\n      <th>volumeCounts3D_max</th>\n      <th>volumeCounts3D_mean</th>\n      <th>volumeCounts3D_std</th>\n      <th>volumeCounts5D_min</th>\n      <th>volumeCounts5D_max</th>\n      <th>volumeCounts5D_mean</th>\n      <th>volumeCounts5D_std</th>\n      <th>volumeCounts7D_min</th>\n      <th>volumeCounts7D_max</th>\n      <th>volumeCounts7D_mean</th>\n      <th>volumeCounts7D_std</th>\n      <th>dayofweek</th>\n      <th>month</th>\n    </tr>\n  </thead>\n  <tbody>\n    <tr>\n      <th>2354464</th>\n      <td>421</td>\n      <td>656</td>\n      <td>6290038.0</td>\n      <td>41.88</td>\n      <td>42.17</td>\n      <td>0.022960</td>\n      <td>0.062484</td>\n      <td>-0.011745</td>\n      <td>0.028649</td>\n      <td>0.030503</td>\n      <td>0.057363</td>\n      <td>0.001360</td>\n      <td>0.047593</td>\n      <td>2013-01-02</td>\n      <td>NaN</td>\n      <td>NaN</td>\n      <td>NaN</td>\n      <td>NaN</td>\n      <td>NaN</td>\n      <td>NaN</td>\n      <td>NaN</td>\n      <td>NaN</td>\n      <td>NaN</td>\n      <td>NaN</td>\n      <td>NaN</td>\n      <td>NaN</td>\n      <td>NaN</td>\n      <td>NaN</td>\n      <td>NaN</td>\n      <td>NaN</td>\n      <td>NaN</td>\n      <td>NaN</td>\n      <td>NaN</td>\n      <td>NaN</td>\n      <td>NaN</td>\n      <td>NaN</td>\n      <td>NaN</td>\n      <td>NaN</td>\n      <td>NaN</td>\n      <td>NaN</td>\n      <td>...</td>\n      <td>NaN</td>\n      <td>NaN</td>\n      <td>NaN</td>\n      <td>NaN</td>\n      <td>NaN</td>\n      <td>NaN</td>\n      <td>NaN</td>\n      <td>NaN</td>\n      <td>NaN</td>\n      <td>NaN</td>\n      <td>NaN</td>\n      <td>NaN</td>\n      <td>NaN</td>\n      <td>NaN</td>\n      <td>NaN</td>\n      <td>NaN</td>\n      <td>NaN</td>\n      <td>NaN</td>\n      <td>NaN</td>\n      <td>NaN</td>\n      <td>NaN</td>\n      <td>NaN</td>\n      <td>NaN</td>\n      <td>NaN</td>\n      <td>NaN</td>\n      <td>NaN</td>\n      <td>NaN</td>\n      <td>NaN</td>\n      <td>NaN</td>\n      <td>NaN</td>\n      <td>NaN</td>\n      <td>NaN</td>\n      <td>NaN</td>\n      <td>NaN</td>\n      <td>NaN</td>\n      <td>NaN</td>\n      <td>NaN</td>\n      <td>NaN</td>\n      <td>2</td>\n      <td>1</td>\n    </tr>\n    <tr>\n      <th>2354465</th>\n      <td>797</td>\n      <td>570</td>\n      <td>463556.0</td>\n      <td>28.70</td>\n      <td>28.72</td>\n      <td>0.014851</td>\n      <td>0.040957</td>\n      <td>-0.003633</td>\n      <td>0.058916</td>\n      <td>0.021716</td>\n      <td>0.043226</td>\n      <td>0.010621</td>\n      <td>0.041752</td>\n      <td>2013-01-02</td>\n      <td>NaN</td>\n      <td>NaN</td>\n      <td>NaN</td>\n      <td>NaN</td>\n      <td>NaN</td>\n      <td>NaN</td>\n      <td>NaN</td>\n      <td>NaN</td>\n      <td>NaN</td>\n      <td>NaN</td>\n      <td>NaN</td>\n      <td>NaN</td>\n      <td>NaN</td>\n      <td>NaN</td>\n      <td>NaN</td>\n      <td>NaN</td>\n      <td>NaN</td>\n      <td>NaN</td>\n      <td>NaN</td>\n      <td>NaN</td>\n      <td>NaN</td>\n      <td>NaN</td>\n      <td>NaN</td>\n      <td>NaN</td>\n      <td>NaN</td>\n      <td>NaN</td>\n      <td>...</td>\n      <td>NaN</td>\n      <td>NaN</td>\n      <td>NaN</td>\n      <td>NaN</td>\n      <td>NaN</td>\n      <td>NaN</td>\n      <td>NaN</td>\n      <td>NaN</td>\n      <td>NaN</td>\n      <td>NaN</td>\n      <td>NaN</td>\n      <td>NaN</td>\n      <td>NaN</td>\n      <td>NaN</td>\n      <td>NaN</td>\n      <td>NaN</td>\n      <td>NaN</td>\n      <td>NaN</td>\n      <td>NaN</td>\n      <td>NaN</td>\n      <td>NaN</td>\n      <td>NaN</td>\n      <td>NaN</td>\n      <td>NaN</td>\n      <td>NaN</td>\n      <td>NaN</td>\n      <td>NaN</td>\n      <td>NaN</td>\n      <td>NaN</td>\n      <td>NaN</td>\n      <td>NaN</td>\n      <td>NaN</td>\n      <td>NaN</td>\n      <td>NaN</td>\n      <td>NaN</td>\n      <td>NaN</td>\n      <td>NaN</td>\n      <td>NaN</td>\n      <td>2</td>\n      <td>1</td>\n    </tr>\n    <tr>\n      <th>2354466</th>\n      <td>238</td>\n      <td>589</td>\n      <td>800421.0</td>\n      <td>72.49</td>\n      <td>73.49</td>\n      <td>0.001935</td>\n      <td>0.029416</td>\n      <td>-0.006146</td>\n      <td>0.021011</td>\n      <td>-0.006849</td>\n      <td>0.008509</td>\n      <td>-0.003837</td>\n      <td>0.011423</td>\n      <td>2013-01-02</td>\n      <td>NaN</td>\n      <td>NaN</td>\n      <td>NaN</td>\n      <td>NaN</td>\n      <td>NaN</td>\n      <td>NaN</td>\n      <td>NaN</td>\n      <td>NaN</td>\n      <td>NaN</td>\n      <td>NaN</td>\n      <td>NaN</td>\n      <td>NaN</td>\n      <td>NaN</td>\n      <td>NaN</td>\n      <td>NaN</td>\n      <td>NaN</td>\n      <td>NaN</td>\n      <td>NaN</td>\n      <td>NaN</td>\n      <td>NaN</td>\n      <td>NaN</td>\n      <td>NaN</td>\n      <td>NaN</td>\n      <td>NaN</td>\n      <td>NaN</td>\n      <td>NaN</td>\n      <td>...</td>\n      <td>NaN</td>\n      <td>NaN</td>\n      <td>NaN</td>\n      <td>NaN</td>\n      <td>NaN</td>\n      <td>NaN</td>\n      <td>NaN</td>\n      <td>NaN</td>\n      <td>NaN</td>\n      <td>NaN</td>\n      <td>NaN</td>\n      <td>NaN</td>\n      <td>NaN</td>\n      <td>NaN</td>\n      <td>NaN</td>\n      <td>NaN</td>\n      <td>NaN</td>\n      <td>NaN</td>\n      <td>NaN</td>\n      <td>NaN</td>\n      <td>NaN</td>\n      <td>NaN</td>\n      <td>NaN</td>\n      <td>NaN</td>\n      <td>NaN</td>\n      <td>NaN</td>\n      <td>NaN</td>\n      <td>NaN</td>\n      <td>NaN</td>\n      <td>NaN</td>\n      <td>NaN</td>\n      <td>NaN</td>\n      <td>NaN</td>\n      <td>NaN</td>\n      <td>NaN</td>\n      <td>NaN</td>\n      <td>NaN</td>\n      <td>NaN</td>\n      <td>2</td>\n      <td>1</td>\n    </tr>\n    <tr>\n      <th>2354467</th>\n      <td>770</td>\n      <td>554</td>\n      <td>20017838.0</td>\n      <td>549.03</td>\n      <td>554.00</td>\n      <td>0.031676</td>\n      <td>0.086083</td>\n      <td>-0.011501</td>\n      <td>0.051464</td>\n      <td>0.058208</td>\n      <td>0.088580</td>\n      <td>0.011897</td>\n      <td>0.066369</td>\n      <td>2013-01-02</td>\n      <td>1.0</td>\n      <td>43.0</td>\n      <td>2.0</td>\n      <td>0.0</td>\n      <td>10253.0</td>\n      <td>3023.186035</td>\n      <td>2647.338135</td>\n      <td>10.0</td>\n      <td>2098.0</td>\n      <td>477.41861</td>\n      <td>563.825378</td>\n      <td>1.0</td>\n      <td>67.0</td>\n      <td>15.83721</td>\n      <td>17.492762</td>\n      <td>1.0</td>\n      <td>41.0</td>\n      <td>11.27907</td>\n      <td>13.450661</td>\n      <td>0.0</td>\n      <td>1.0</td>\n      <td>0.186047</td>\n      <td>0.39375</td>\n      <td>0.085126</td>\n      <td>1.0</td>\n      <td>0.602108</td>\n      <td>...</td>\n      <td>1.465116</td>\n      <td>1.709203</td>\n      <td>0.0</td>\n      <td>8.0</td>\n      <td>1.767442</td>\n      <td>2.068324</td>\n      <td>0.0</td>\n      <td>11.0</td>\n      <td>2.27907</td>\n      <td>2.657654</td>\n      <td>0.0</td>\n      <td>11.0</td>\n      <td>2.581395</td>\n      <td>2.727571</td>\n      <td>0.0</td>\n      <td>11.0</td>\n      <td>3.069767</td>\n      <td>3.34803</td>\n      <td>1.0</td>\n      <td>31.0</td>\n      <td>19.581396</td>\n      <td>9.424468</td>\n      <td>1.0</td>\n      <td>44.0</td>\n      <td>23.511627</td>\n      <td>13.140944</td>\n      <td>17.0</td>\n      <td>61.0</td>\n      <td>39.534885</td>\n      <td>13.178895</td>\n      <td>43.0</td>\n      <td>66.0</td>\n      <td>54.604652</td>\n      <td>6.72996</td>\n      <td>90.0</td>\n      <td>116.0</td>\n      <td>100.511627</td>\n      <td>7.666787</td>\n      <td>2</td>\n      <td>1</td>\n    </tr>\n    <tr>\n      <th>2354468</th>\n      <td>1202</td>\n      <td>1218</td>\n      <td>275066.0</td>\n      <td>45.58</td>\n      <td>45.54</td>\n      <td>0.028430</td>\n      <td>0.049551</td>\n      <td>0.006693</td>\n      <td>0.035086</td>\n      <td>0.084463</td>\n      <td>0.089474</td>\n      <td>0.076586</td>\n      <td>0.085146</td>\n      <td>2013-01-02</td>\n      <td>NaN</td>\n      <td>NaN</td>\n      <td>NaN</td>\n      <td>NaN</td>\n      <td>NaN</td>\n      <td>NaN</td>\n      <td>NaN</td>\n      <td>NaN</td>\n      <td>NaN</td>\n      <td>NaN</td>\n      <td>NaN</td>\n      <td>NaN</td>\n      <td>NaN</td>\n      <td>NaN</td>\n      <td>NaN</td>\n      <td>NaN</td>\n      <td>NaN</td>\n      <td>NaN</td>\n      <td>NaN</td>\n      <td>NaN</td>\n      <td>NaN</td>\n      <td>NaN</td>\n      <td>NaN</td>\n      <td>NaN</td>\n      <td>NaN</td>\n      <td>NaN</td>\n      <td>...</td>\n      <td>NaN</td>\n      <td>NaN</td>\n      <td>NaN</td>\n      <td>NaN</td>\n      <td>NaN</td>\n      <td>NaN</td>\n      <td>NaN</td>\n      <td>NaN</td>\n      <td>NaN</td>\n      <td>NaN</td>\n      <td>NaN</td>\n      <td>NaN</td>\n      <td>NaN</td>\n      <td>NaN</td>\n      <td>NaN</td>\n      <td>NaN</td>\n      <td>NaN</td>\n      <td>NaN</td>\n      <td>NaN</td>\n      <td>NaN</td>\n      <td>NaN</td>\n      <td>NaN</td>\n      <td>NaN</td>\n      <td>NaN</td>\n      <td>NaN</td>\n      <td>NaN</td>\n      <td>NaN</td>\n      <td>NaN</td>\n      <td>NaN</td>\n      <td>NaN</td>\n      <td>NaN</td>\n      <td>NaN</td>\n      <td>NaN</td>\n      <td>NaN</td>\n      <td>NaN</td>\n      <td>NaN</td>\n      <td>NaN</td>\n      <td>NaN</td>\n      <td>2</td>\n      <td>1</td>\n    </tr>\n  </tbody>\n</table>\n</div>"
          },
          "metadata": {}
        }
      ]
    },
    {
      "metadata": {
        "_uuid": "1cf04c04eb43dcfcb31470f82593ca6851ea2893"
      },
      "cell_type": "markdown",
      "source": "\n\n\nAs not every row contains news data we train two models. One for the rows with news data and one for the rows without news data.\n\nThe model trained without news data will be fitted is linear regression. Tried also RF model for this, but linear regression gave better scores."
    },
    {
      "metadata": {
        "trusted": true,
        "_uuid": "fe9b17e397df56c69b334ff9c066f7a657bce14a"
      },
      "cell_type": "code",
      "source": "train_cols = X.columns.tolist()\n#training columns for assets with news\nu_train_cols = [\n'volume','returnsOpenPrevMktres1', 'returnsOpenPrevMktres10','urgency_min', 'urgency_count',\n 'takeSequence_max', 'bodySize_min', 'bodySize_max', 'bodySize_mean',\n 'bodySize_std', 'wordCount_min', 'wordCount_max', 'wordCount_mean',\n 'wordCount_std', 'sentenceCount_min', 'sentenceCount_max', 'sentenceCount_mean',\n 'sentenceCount_std', 'companyCount_min', 'companyCount_max', 'companyCount_mean',\n 'companyCount_std', 'marketCommentary_min', 'marketCommentary_max', 'marketCommentary_mean',\n 'marketCommentary_std', 'relevance_min', 'relevance_max', 'relevance_mean',\n 'relevance_std', 'sentimentNegative_min', 'sentimentNegative_max', 'sentimentNegative_mean',\n 'sentimentNegative_std', 'sentimentNeutral_min', 'sentimentNeutral_max', 'sentimentNeutral_mean',\n 'sentimentNeutral_std', 'sentimentPositive_min', 'sentimentPositive_max', 'sentimentPositive_mean',\n 'sentimentPositive_std', 'sentimentWordCount_min', 'sentimentWordCount_max', 'sentimentWordCount_mean',\n 'sentimentWordCount_std', 'noveltyCount12H_min', 'noveltyCount12H_max', 'noveltyCount12H_mean',\n 'noveltyCount12H_std', 'noveltyCount24H_min', 'noveltyCount24H_max', 'noveltyCount24H_mean',\n 'noveltyCount24H_std', 'noveltyCount3D_min', 'noveltyCount3D_max', 'noveltyCount3D_mean',\n 'noveltyCount3D_std', 'noveltyCount5D_min', 'noveltyCount5D_max', 'noveltyCount5D_mean',\n 'noveltyCount5D_std', 'noveltyCount7D_min', 'noveltyCount7D_max', 'noveltyCount7D_mean',\n 'noveltyCount7D_std', 'volumeCounts12H_min', 'volumeCounts12H_max', 'volumeCounts12H_mean',\n 'volumeCounts12H_std', 'volumeCounts24H_min', 'volumeCounts24H_max', 'volumeCounts24H_mean',\n 'volumeCounts24H_std', 'volumeCounts3D_min', 'volumeCounts3D_max', 'volumeCounts3D_mean',\n 'volumeCounts3D_std', 'volumeCounts5D_min', 'volumeCounts5D_max', 'volumeCounts5D_mean',\n 'volumeCounts5D_std', 'volumeCounts7D_min', 'volumeCounts7D_max', 'volumeCounts7D_mean', 'volumeCounts7D_std']\n#training columns for asset, that does not have news data\ni_train_cols = ['dayofweek', 'month','volume', 'returnsOpenPrevMktres1', 'returnsOpenPrevMktres10']",
      "execution_count": 21,
      "outputs": []
    },
    {
      "metadata": {
        "trusted": true,
        "_uuid": "a8460fa5aa1499a276d25c2146e5b0e66feb9d83"
      },
      "cell_type": "code",
      "source": "# Funciton to separate rows with news data\n\ndef separate_rows_with_news(X, y, col, y_also=True):\n    NA_indx=X[col].isnull()\n    X_i=X.loc[NA_indx,:]\n    X_u=X.loc[-NA_indx,:]\n    X_u=X_u.fillna(0)\n    X_i=X_i.fillna(0)\n    if y_also==True:\n        y_i=y.loc[NA_indx]\n        y_u=y.loc[-NA_indx]\n        return X_u, X_i, y_u, y_i\n    else:\n        return X_u, X_i",
      "execution_count": 22,
      "outputs": []
    },
    {
      "metadata": {
        "trusted": true,
        "_uuid": "cbd4f52cd3dd63e4f982961e86db35c3177fc41d"
      },
      "cell_type": "code",
      "source": "# Train two models - one for the part of data with some news about it, and other for the assets without news on certain date\ndef train_models(X_u,y_u, X_i, y_i, m_u, m_i, u_train_cols=u_train_cols, i_train_cols=i_train_cols):\n    fitted_u=m_u.fit(X_u[u_train_cols], y_u)\n    fitted_i=m_i.fit(X_i[i_train_cols], y_i)\n    return fitted_u, fitted_i\n\n# predictions for two models\ndef predict_from_fitted(X_u, X_i, fitted_u, fitted_i, u_train_cols=u_train_cols, i_train_cols=i_train_cols):\n    pred_i=np.clip(fitted_i.predict(X_i[i_train_cols]),-1,1)\n    pred_u=np.clip(fitted_u.predict(X_u[u_train_cols]),-1,1)\n    return pred_u, pred_i\n\n# Evaluation of score\ndef score(X_valid_u, X_valid_i, y_valid_u, y_valid_i,pred_u, pred_i):\n    resid_u=pd.concat([X_valid_u['date'],pred_u*y_valid_u],axis=1)\n    resid_i=pd.concat([X_valid_i['date'], pred_i*y_valid_i],axis=1)\n    xts=[]\n    for dt in X_valid_i['date'].unique():\n        xt=resid_u.loc[resid_u['date']==dt,'returnsOpenNextMktres10'].sum()+resid_i.loc[resid_i['date']==dt,'returnsOpenNextMktres10'].sum()\n        xts.extend([xt])\n    return np.mean(xts)/np.std(xts)",
      "execution_count": 23,
      "outputs": []
    },
    {
      "metadata": {
        "trusted": true,
        "_uuid": "40f9f118d13917eb353ab7dd1d5ced2d449abfbd"
      },
      "cell_type": "code",
      "source": "X_u, X_i, y_u, y_i=separate_rows_with_news(X_train, y_train, 'urgency_min')\nX_valid_u, X_valid_i, y_valid_u, y_valid_i=separate_rows_with_news(X_valid, y_valid, 'urgency_min')",
      "execution_count": 24,
      "outputs": []
    },
    {
      "metadata": {
        "_uuid": "6ab0ccb870be5be0787908d49f9cfed8295bf502"
      },
      "cell_type": "markdown",
      "source": "\n\n## Model for the assets that did not have any news about it  (simple Linear Regression)"
    },
    {
      "metadata": {
        "trusted": true,
        "_uuid": "b810d67dd8cd1918c0b39ad3d225588246ce4af1"
      },
      "cell_type": "code",
      "source": "from sklearn.linear_model import LinearRegression\n\nm_i=LinearRegression()",
      "execution_count": 25,
      "outputs": []
    },
    {
      "metadata": {
        "_uuid": "9dd7dc6b5c9430ac629080485960135a9f19e348"
      },
      "cell_type": "markdown",
      "source": "\n## Support Vector Machine models for data with news "
    },
    {
      "metadata": {
        "_uuid": "d9ade7c3f5c9f4b74f0de404e0c7e51c3b16a058"
      },
      "cell_type": "markdown",
      "source": "\nSVR - Epsilon-Support Vector Regression\n"
    },
    {
      "metadata": {
        "trusted": true,
        "_uuid": "3c4cd3764bcf792cb02edb82e37c4a73b0be914f"
      },
      "cell_type": "code",
      "source": "from sklearn import svm\n\n#m_u  = SVR(kernel='poly', degree=4, gamma=\"auto\", C=1, max_iter=-1, tol=0.01)\n#m_u  = SVR(kernel='rbf', gamma=\"auto\", C=1, max_iter=-1, tol=0.01)\n#m_u  = SVR(kernel='rbf', gamma=\"auto\", shrinking=False, C=1, max_iter=-1, tol=0.01)\n#m_u  = SVR(kernel='sigmoid', gamma=\"auto\", C=1, max_iter=-1, tol=0.01)\n",
      "execution_count": 26,
      "outputs": []
    },
    {
      "metadata": {
        "_uuid": "ef08329086b319258a7b5b9086ccb6bd45808a8d"
      },
      "cell_type": "markdown",
      "source": "\nAll these model took really long time to run and I did not get any final models. After few hours of changing the parameters, googeling about the parameters, I finally googeled how to boost up SVR speed.\n\nFrom this post here: https://www.reddit.com/r/MachineLearning/comments/1fvk15/ways_to_speedup_svr_training_in_scikitlearn/    I finally learned, that SVR can used only on training data with small datasets, i quote: \"they hit a wall where they can't really deal with more than a few 10k training examples\".\n\nSo I left SVM behind and started to try Gradient Boosting Methods as recommended in previous forum. "
    },
    {
      "metadata": {
        "_uuid": "032177998953ea57488f241d75ec771510805ac3"
      },
      "cell_type": "markdown",
      "source": "## Regression with GradientBoosting"
    },
    {
      "metadata": {
        "_uuid": "5e0f97bb405ceeef0c561be405670217d3a62c78"
      },
      "cell_type": "markdown",
      "source": "Documentation about GBR: https://scikit-learn.org/stable/modules/generated/sklearn.ensemble.GradientBoostingRegressor.html#sklearn.ensemble.GradientBoostingRegressor"
    },
    {
      "metadata": {
        "trusted": true,
        "_uuid": "e73bac54aefe308dc70374cc95f71f587308aafb"
      },
      "cell_type": "code",
      "source": "from  sklearn.ensemble import GradientBoostingRegressor\n\nm_u=GradientBoostingRegressor(n_estimators=100, learning_rate=0.1, max_depth=1, random_state=0)\n#score in my kernel - 0.32438431813304397 ---- best one I was able to model.\n# Competition score: 0.49158\n\n#m_u=GradientBoostingRegressor(n_estimators=200, learning_rate=0.3, max_depth=1, random_state=0)\n#score in my kernel - 0.27901163396335305\n\n#m_u=GradientBoostingRegressor(n_estimators=100, learning_rate=0.1, max_depth=3, random_state=0)\n#score in my kernel - 0.2184884062075716\n\n#m_u=GradientBoostingRegressor(n_estimators=200, learning_rate=0.5, max_depth=1, random_state=0)\n#score in my kernel - 0.25002953881378237  \n\n# n_estimator>200 takes too long time, that's why smaller values are prefferred",
      "execution_count": 27,
      "outputs": []
    },
    {
      "metadata": {
        "trusted": true,
        "_uuid": "f61f7ccb11845e7e6332c1a272043b3cd7bbb475"
      },
      "cell_type": "code",
      "source": "#m_u=GradientBoostingRegressor(loss='ls', \n #                         learning_rate=0.5,\n  #                        n_estimators=500,\n   #                       subsample=1.0, \n    #                      criterion='friedman_mse', \n     #                     min_samples_split=4, \n      #                    min_samples_leaf=2, \n       #                   min_weight_fraction_leaf=0.0, \n        #                  max_depth=3, \n         #                 min_impurity_decrease=0.0, \n          #                min_impurity_split=None, \n           #               init=None, \n            #              random_state=0,\n             #             max_features=None, \n              #            alpha=0.9, \n               #           verbose=0, \n                #          max_leaf_nodes=None, \n                 #         warm_start=False, \n                  #        presort='auto', \n                   #       validation_fraction=0.1,\n                    #      n_iter_no_change=None, \n                     #     tol=0.01)",
      "execution_count": 28,
      "outputs": []
    },
    {
      "metadata": {
        "trusted": true,
        "_uuid": "e79c677f9acf09c5833c6fd322ec85462aeb8975"
      },
      "cell_type": "code",
      "source": "fitted_u, fitted_i=train_models(X_u,y_u, X_i, y_i, m_u, m_i, u_train_cols=u_train_cols, i_train_cols=i_train_cols)",
      "execution_count": 29,
      "outputs": []
    },
    {
      "metadata": {
        "trusted": true,
        "_uuid": "fbdff22c1088631a1775ceb9ac0b3324eafb00f1"
      },
      "cell_type": "code",
      "source": "pred_u, pred_i=predict_from_fitted(X_valid_u, X_valid_i, fitted_u, fitted_i, u_train_cols=u_train_cols, i_train_cols=i_train_cols)",
      "execution_count": 30,
      "outputs": []
    },
    {
      "metadata": {
        "trusted": true,
        "_uuid": "9c2e3f80605904b910350f92f0f0f144883878c7"
      },
      "cell_type": "code",
      "source": "score(X_valid_u, X_valid_i, y_valid_u, y_valid_i,pred_u, pred_i)",
      "execution_count": 31,
      "outputs": [
        {
          "output_type": "execute_result",
          "execution_count": 31,
          "data": {
            "text/plain": "0.32438431813304397"
          },
          "metadata": {}
        }
      ]
    },
    {
      "metadata": {
        "_uuid": "c2e31a620df9e6a041316a1a661aee4b046ba36e"
      },
      "cell_type": "markdown",
      "source": "#### Next, I will present a graph that shows differences between predicted values and actual values in test data."
    },
    {
      "metadata": {
        "trusted": true,
        "_uuid": "fd9fe0275d5c4e58d4cee66e53f9278e87cefcf6"
      },
      "cell_type": "code",
      "source": "from matplotlib import pyplot as plt\nplt.plot(pred_u-y_valid_u)\ndisplay ((pred_u-y_valid_u).describe())",
      "execution_count": 32,
      "outputs": [
        {
          "output_type": "display_data",
          "data": {
            "text/plain": "count    67611.000000\nmean        -0.002944\nstd          0.056749\nmin         -1.001844\n25%         -0.027892\n50%         -0.002318\n75%          0.022819\nmax          0.943518\nName: returnsOpenNextMktres10, dtype: float64"
          },
          "metadata": {}
        },
        {
          "output_type": "display_data",
          "data": {
            "text/plain": "<Figure size 432x288 with 1 Axes>",
            "image/png": "[encoded data removed]"
          },
          "metadata": {}
        }
      ]
    },
    {
      "metadata": {
        "_uuid": "232af4b0287c0a70ea6926cb9918c9847b0ed71f"
      },
      "cell_type": "markdown",
      "source": "### Writing submission file\n\nAs I am going to write another submission later, this section ic commeted out"
    },
    {
      "metadata": {
        "trusted": true,
        "_uuid": "1fe7d5bdf57c180990619fdd087e91afb062ab1d"
      },
      "cell_type": "code",
      "source": "# For merging together two sets of predictions\n#def merge_predictions(X_valid_u, pred_u, X_valid_i, pred_i,le):\n#    le_assetCode, le_assetName = le\n#    assets=pd.DataFrame.from_dict(le_assetCode, orient='index').reset_index()\n#    assets.columns=['character','assetCode']\n#    result=pd.concat([pd.concat([X_valid_u['assetCode'].reset_index(),pd.DataFrame(pred_u)],axis=1),pd.concat([X_valid_i['assetCode'].reset_index(),pd.DataFrame(pred_i)],axis=1)],axis=0)\n#    result=result.merge(assets,on='assetCode')\n#    result=result.drop(['assetCode', 'index'], axis=1)\n#    result.columns=['preds', 'assetCode']\n#    result=result[['assetCode', 'preds']]\n#    return result \n\n#def make_predictions(predictions_template_df, market_obs_df, news_obs_df):\n#    x, le = get_x(market_obs_df, news_obs_df)\n#    X_u, X_i=separate_rows_with_news(x, y_train, 'urgency_min', y_also=False)\n#    pred_u, pred_i=predict_from_fitted(X_u, X_i, fitted_u, fitted_i, u_train_cols=u_train_cols, i_train_cols=i_train_cols)\n#    \n#    preds=merge_predictions(X_u, pred_u, X_i, pred_i,le)\n#    \n#    predictions_template_df=predictions_template_df.merge(preds, on='assetCode')\n#    predictions_template_df=predictions_template_df.drop('confidenceValue', axis=1)\n#    predictions_template_df.columns=['assetCode','confidenceValue']\n#    return predictions_template_df",
      "execution_count": 33,
      "outputs": []
    },
    {
      "metadata": {
        "trusted": true,
        "_uuid": "d2cdfc5dcadc09a3670fd3fcacc6f4fbfb70847c"
      },
      "cell_type": "code",
      "source": "# The Main loop - to predict future dates:\n\n#days = env.get_prediction_days()\n\n#for (market_obs_df, news_obs_df, predictions_template_df) in days:\n#    predictions=make_predictions(predictions_template_df, market_obs_df, news_obs_df)\n#    env.predict(predictions)\n#print('Done!')",
      "execution_count": 34,
      "outputs": []
    },
    {
      "metadata": {
        "trusted": true,
        "_uuid": "6741451e1237a705271247c6ed3db0a429aa7a4b"
      },
      "cell_type": "code",
      "source": "#env.write_submission_file()",
      "execution_count": 35,
      "outputs": []
    },
    {
      "metadata": {
        "_uuid": "d1d8c723cfdc76130428c829ee5bfb2b0d8fd180"
      },
      "cell_type": "markdown",
      "source": "### Using LightGBM"
    },
    {
      "metadata": {
        "_uuid": "758ff1f71c40aeb2b60f69ea41813a84f5f378ac"
      },
      "cell_type": "markdown",
      "source": "The best model in previous section got only 0.49 score in competition scoring. So I decided to look other public kernels how others have improved their GBR models. Did not find much kernels, mainly GradientBoostingClafssifier was used. But as we didn't had binary data for other models. Later I tried for otherwise corrected data, where return was made binary. \n\nFound out that the public kernel we used for data merging, used LightGBR and so I continued with this method. \n\nhttps://www.kaggle.com/bguberfain/a-simple-model-using-the-market-and-news-data\nAlso some ideas from https://www.kaggle.com/alexfuyang/lgbmclassifier kernel were used. \n\nHelp for choosing parameters:\n\nhttps://medium.com/@pushkarmandot/https-medium-com-pushkarmandot-what-is-lightgbm-how-to-implement-it-how-to-fine-tune-the-parameters-60347819b7fc"
    },
    {
      "metadata": {
        "trusted": true,
        "_uuid": "7c51f1711495f913d5cb36e45f1c0358e0a84eec"
      },
      "cell_type": "code",
      "source": "X=X.drop(['date'], axis=1) # we need to erase date column, that was made for previous predictions\nX_train=X_train.drop(['date'], axis=1)\nX_valid=X_valid.drop(['date'], axis=1)",
      "execution_count": 36,
      "outputs": []
    },
    {
      "metadata": {
        "trusted": true,
        "_uuid": "d8aca84740d6cebe0c2247848a9a85c44f440a32"
      },
      "cell_type": "code",
      "source": "import lightgbm as lgb\n\n# Creat lgb datasets\ntrain_cols =X.columns.tolist()\ncategorical_cols = [] #['assetCode', 'assetName', 'dayofweek', 'month']\n\n# Note: y data is expected to be a pandas Series, as we will use its group_by function in `sigma_score`\ndtrain = lgb.Dataset(X_train.values, y_train, feature_name=train_cols, categorical_feature=categorical_cols, free_raw_data=False)\ndvalid = lgb.Dataset(X_valid.values, y_valid, feature_name=train_cols, categorical_feature=categorical_cols, free_raw_data=False)",
      "execution_count": 37,
      "outputs": []
    },
    {
      "metadata": {
        "trusted": true,
        "_uuid": "7eef51895e26c36ae5e16acb0fe1991f9e3b180f"
      },
      "cell_type": "code",
      "source": "# We will 'inject' an extra parameter in order to have access to df_valid['time'] inside sigma_score without globals\ndvalid.params = {'extra_time' : t_valid.factorize()[0]}",
      "execution_count": 38,
      "outputs": []
    },
    {
      "metadata": {
        "trusted": true,
        "_uuid": "fb3a888e3aa864ea4d32f16849382c1891197a94"
      },
      "cell_type": "code",
      "source": "import lightgbm as lgb\nprint ('Training lightgbm')\n\nparameters = dict(objective = 'regression',\n                  learning_rate = 0.3, #originally 0.1\n                  num_leaves = 120, #originally 60\n                  max_depth = -1,#no max. depth\n                  bagging_fraction = 0.75,\n                  bagging_freq = 2,\n                  feature_fraction = 0.5,\n                  lambda_l1 = 0.0,\n                  lambda_l2 = 1.0,\n                  metric = 'None', # This will ignore the loss objetive and use sigma_score instead,\n                  seed = 0)\n\n\ndef sigma_score(preds, valid_data):\n    df_time = valid_data.params['extra_time']\n    labels = valid_data.get_label()\n    \n#    assert len(labels) == len(df_time)\n\n    x_t = preds * labels #  * df_valid['universe'] -> Here we take out the 'universe' term because we already keep only those equals to 1.\n    \n    # Here we take advantage of the fact that `labels` (used to calculate `x_t`)\n    # is a pd.Series and call `group_by`\n    x_t_sum = x_t.groupby(df_time).sum()\n    score = x_t_sum.mean() / x_t_sum.std()\n\n    return 'sigma_score', score, True\n\nevals_result = {}\nm = lgb.train(parameters, dtrain, num_boost_round=1000, valid_sets=(dvalid,), valid_names=('valid',), verbose_eval=25,\n              early_stopping_rounds=100, feval=sigma_score, evals_result=evals_result)\n\n\ndf_result = pd.DataFrame(evals_result['valid'])",
      "execution_count": 60,
      "outputs": [
        {
          "output_type": "stream",
          "text": "Training lightgbm\n",
          "name": "stdout"
        },
        {
          "output_type": "stream",
          "text": "/opt/conda/lib/python3.6/site-packages/lightgbm/basic.py:1186: UserWarning: Using categorical_feature in Dataset.\n  warnings.warn('Using categorical_feature in Dataset.')\n",
          "name": "stderr"
        },
        {
          "output_type": "stream",
          "text": "Training until validation scores don't improve for 100 rounds.\n[25]\tvalid's sigma_score: 0.471704\n[50]\tvalid's sigma_score: 0.457041\n[75]\tvalid's sigma_score: 0.463759\n[100]\tvalid's sigma_score: 0.472821\n[125]\tvalid's sigma_score: 0.469917\n[150]\tvalid's sigma_score: 0.477391\n[175]\tvalid's sigma_score: 0.472434\n[200]\tvalid's sigma_score: 0.479413\n[225]\tvalid's sigma_score: 0.47272\n[250]\tvalid's sigma_score: 0.465269\n[275]\tvalid's sigma_score: 0.461361\nEarly stopping, best iteration is:\n[188]\tvalid's sigma_score: 0.486687\n",
          "name": "stdout"
        }
      ]
    },
    {
      "metadata": {
        "trusted": true,
        "_uuid": "848b74e9b95602f323b33b2f973e80e315ffbf99"
      },
      "cell_type": "code",
      "source": "num_boost_round, valid_score = df_result['sigma_score'].idxmax()+1, df_result['sigma_score'].max()\nprint(parameters)\nprint(f'Best score was {valid_score:.5f} on round {num_boost_round}')",
      "execution_count": 61,
      "outputs": [
        {
          "output_type": "stream",
          "text": "{'objective': 'regression', 'learning_rate': 0.3, 'num_leaves': 120, 'max_depth': -1, 'bagging_fraction': 0.75, 'bagging_freq': 2, 'feature_fraction': 0.5, 'lambda_l1': 0.0, 'lambda_l2': 1.0, 'metric': 'None', 'seed': 0}\nBest score was 0.48669 on round 188\n",
          "name": "stdout"
        }
      ]
    },
    {
      "metadata": {
        "_uuid": "635f524f48f135a9f0b31d426cb589b388fd4b80"
      },
      "cell_type": "markdown",
      "source": "### Restults for different models with different parameters\n\n1) 'objective': 'regression_l1', 'learning_rate': 0.05, 'num_leaves': 127, 'max_depth': -1, 'bagging_fraction': 0.8, 'bagging_freq': 5, 'feature_fraction': 0.5, 'lambda_l1': 0.0, 'lambda_l2': 1.0, 'metric': 'None', 'seed': 0\n<br>\nBest score was 0.37121 on round 449\n\n2) 'objective': 'regression_l1', 'learning_rate': 0.5, 'num_leaves': 120, 'max_depth': -1, 'bagging_fraction': 0.75, 'bagging_freq': 2, 'feature_fraction': 0.5, 'lambda_l1': 0.0, 'lambda_l2': 1.0, 'metric': 'None', 'seed': 0}\n<br>\nBest score was 0.41345 on round 57\n\n3) {'objective': 'regression', 'learning_rate': 0.5, 'num_leaves': 120, 'max_depth': -1, 'bagging_fraction': 0.75, 'bagging_freq': 2, 'feature_fraction': 0.5, 'lambda_l1': 0.0, 'lambda_l2': 1.0, 'metric': 'None', 'seed': 0}\n<br>\nBest score was 0.42150 on round 3\n\n4) {'objective': 'regression', 'learning_rate': 0.5, 'num_leaves': 130, 'max_depth': -1, 'bagging_fraction': 0.75, 'bagging_freq': 2, 'feature_fraction': 0.5, 'lambda_l1': 0.0, 'lambda_l2': 1.0, 'metric': 'None', 'seed': 0}\n<br>\nBest score was 0.41214 on round 3\n\n5) {'objective': 'regression', 'learning_rate': 0.3, 'num_leaves': 120, 'max_depth': -1, 'bagging_fraction': 0.75, 'bagging_freq': 2, 'feature_fraction': 0.5, 'lambda_l1': 0.0, 'lambda_l2': 1.0, 'metric': 'None', 'seed': 0}\n<br>\nBest score was 0.48669 on round 188\n\n6) {'objective': 'regression', 'learning_rate': 0.1, 'num_leaves': 120, 'max_depth': -1, 'bagging_fraction': 0.75, 'bagging_freq': 2, 'feature_fraction': 0.5, 'lambda_l1': 0.0, 'lambda_l2': 1.0, 'metric': 'None', 'seed': 0}\n<br>\nBest score was 0.44123 on round 67\n\n7) {'objective': 'regression', 'learning_rate': 0.3, 'num_leaves': 120, 'max_depth': -1, 'bagging_fraction': 0.75, 'bagging_freq': 2, 'feature_fraction': 0.5, 'lambda_l1': 0.5, 'metric': 'None', 'seed': 0}\n<br>\nBest score was 0.43193 on round 28\n\n8) {'objective': 'regression', 'learning_rate': 0.3, 'num_leaves': 120, 'max_depth': -1, 'bagging_fraction': 0.75, 'bagging_freq': 2, 'feature_fraction': 0.5, 'lambda_l1': 0.3, 'metric': 'None', 'seed': 0}\n<br>\nBest score was 0.44648 on round 106\n\nFrom the previous trials I chose the fifth one."
    },
    {
      "metadata": {
        "trusted": true,
        "_uuid": "06bc742ce9bf1ee468860da3e66bb9ab3f82c7c8"
      },
      "cell_type": "code",
      "source": "# Train full model with num_boost_round found in validation.\ndtrain_full = lgb.Dataset(X, y, feature_name=train_cols, categorical_feature=categorical_cols)\n\nmodel = lgb.train(parameters, dtrain, num_boost_round=num_boost_round)",
      "execution_count": 62,
      "outputs": [
        {
          "output_type": "stream",
          "text": "/opt/conda/lib/python3.6/site-packages/lightgbm/basic.py:1186: UserWarning: Using categorical_feature in Dataset.\n  warnings.warn('Using categorical_feature in Dataset.')\n",
          "name": "stderr"
        }
      ]
    },
    {
      "metadata": {
        "trusted": true,
        "_uuid": "48b276fb4916a810a6d386e08b107ba7b28602f4"
      },
      "cell_type": "code",
      "source": "def make_predictions(predictions_template_df, market_obs_df, news_obs_df, le):\n    x, _ = get_x(market_obs_df, news_obs_df, le)\n    predictions_template_df.confidenceValue = np.clip(model.predict(x), -1, 1)",
      "execution_count": 63,
      "outputs": []
    },
    {
      "metadata": {
        "trusted": true,
        "_uuid": "078faa98cf9de3e4a9944b63db603831c3c088b5"
      },
      "cell_type": "markdown",
      "source": "### Writing submission for competition"
    },
    {
      "metadata": {
        "trusted": true,
        "_uuid": "6f8da19b24200886137032755ff22669957d343b"
      },
      "cell_type": "code",
      "source": "days = env.get_prediction_days()\n\nfor (market_obs_df, news_obs_df, predictions_template_df) in days:\n    make_predictions(predictions_template_df, market_obs_df, news_obs_df, le)\n    env.predict(predictions_template_df)\nprint('Done!')",
      "execution_count": 64,
      "outputs": [
        {
          "output_type": "stream",
          "text": "Done!\n",
          "name": "stdout"
        }
      ]
    },
    {
      "metadata": {
        "trusted": true,
        "_uuid": "1d2c5c1a6ca6d60d576c7fed063176a69be1cf04"
      },
      "cell_type": "code",
      "source": "env.write_submission_file()",
      "execution_count": null,
      "outputs": []
    }
  ],
  "metadata": {
    "kernelspec": {
      "display_name": "Python 3",
      "language": "python",
      "name": "python3"
    },
    "language_info": {
      "name": "python",
      "version": "3.6.6",
      "mimetype": "text/x-python",
      "codemirror_mode": {
        "name": "ipython",
        "version": 3
      },
      "pygments_lexer": "ipython3",
      "nbconvert_exporter": "python",
      "file_extension": ".py"
    }
  },
  "nbformat": 4,
  "nbformat_minor": 1
}