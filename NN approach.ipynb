{
  "cells": [
    {
      "metadata": {
        "_uuid": "8f2839f25d086af736a60e9eeb907d3b93b6e0e5",
        "_cell_guid": "b1076dfc-b9ad-4769-8c92-a6c4dae69d19",
        "trusted": true
      },
      "cell_type": "code",
      "source": "# This Python 3 environment comes with many helpful analytics libraries installed\n# It is defined by the kaggle/python docker image: https://github.com/kaggle/docker-python\n# For example, here's several helpful packages to load in \n\nimport numpy as np # linear algebra\nimport pandas as pd # data processing, CSV file I/O (e.g. pd.read_csv)\nimport matplotlib.pyplot as plt\nimport time\n\n\nfrom datetime import datetime, timedelta\n\nfrom keras.callbacks import EarlyStopping, ModelCheckpoint\nfrom keras.models import Model\nfrom keras.layers import Input, Dense, Embedding, Concatenate, Flatten, BatchNormalization, LSTM\nfrom keras.losses import binary_crossentropy, mse\nfrom sklearn.preprocessing import StandardScaler\nfrom sklearn.model_selection import train_test_split\nfrom sklearn.metrics import accuracy_score\n\n\n# Input data files are available in the \"../input/\" directory.\n# For example, running this (by clicking run or pressing Shift+Enter) will list the files in the input directory\n\nimport os\nprint(os.listdir(\"../input\"))\n\n# Any results you write to the current directory are saved as output.",
      "execution_count": 1,
      "outputs": [
        {
          "output_type": "stream",
          "text": "Using TensorFlow backend.\n",
          "name": "stderr"
        },
        {
          "output_type": "stream",
          "text": "['marketdata_sample.csv', 'news_sample.csv']\n",
          "name": "stdout"
        }
      ]
    },
    {
      "metadata": {
        "_cell_guid": "79c7e3d0-c299-4dcb-8224-4455121ee9b0",
        "_uuid": "d629ff2d2480ee46fbb7e2d37f6b5fab8052498a",
        "trusted": true
      },
      "cell_type": "code",
      "source": "# Custom module kaggle.competitions.twosigmanews\nfrom kaggle.competitions import twosigmanews\nenv = twosigmanews.make_env()",
      "execution_count": 2,
      "outputs": [
        {
          "output_type": "stream",
          "text": "Loading the data... This could take a minute.\nDone!\n",
          "name": "stdout"
        }
      ]
    },
    {
      "metadata": {
        "trusted": true,
        "_uuid": "c760f57331988f8dd65a13100939bf53700b77f1"
      },
      "cell_type": "code",
      "source": "# Import data\n(market_train_df, news_train_df) = env.get_training_data()\ndel news_train_df\nmarket_train_df['date'] = market_train_df['time'].dt.strftime('%Y-%m-%d')",
      "execution_count": 3,
      "outputs": []
    },
    {
      "metadata": {
        "trusted": true,
        "_uuid": "6007e8f35debe31595199a20f4f22418aaf34ce9"
      },
      "cell_type": "code",
      "source": "#market_train_df=market_train_df.loc[market_train_df['time']>\"2010-01-01\",:]\n",
      "execution_count": 4,
      "outputs": []
    },
    {
      "metadata": {
        "_uuid": "2b66ae0f38f1ef568253fab636f467f3797b7786"
      },
      "cell_type": "markdown",
      "source": "## Cleaning Market data\n\nThere are various problems in market data. \n1. There seem to be some erroneous opening prices (max closing price 1578.13 vs max opening price 9998.99)\n2. There is one asset that has two asset codes: \"TW.N\" and \"WW.N\", where the last one is erroneous.\n\n\n<br>Used kernel: https://www.kaggle.com/danielson/cleaning-up-market-data-errors-and-stock-splits"
    },
    {
      "metadata": {
        "trusted": true,
        "_uuid": "31c3bed405b859e625a727bd3bae493bdb822d5b",
        "scrolled": true
      },
      "cell_type": "code",
      "source": "market_train_df.describe().round(2)",
      "execution_count": 5,
      "outputs": [
        {
          "output_type": "execute_result",
          "execution_count": 5,
          "data": {
            "text/plain": "             volume       close     ...      returnsOpenNextMktres10    universe\ncount  4.072956e+06  4072956.00     ...                   4072956.00  4072956.00\nmean   2.665312e+06       39.71     ...                         0.01        0.59\nstd    7.687606e+06       42.29     ...                         7.24        0.49\nmin    0.000000e+00        0.07     ...                     -1375.05        0.00\n25%    4.657968e+05       17.25     ...                        -0.03        0.00\n50%    9.821000e+05       30.30     ...                         0.00        1.00\n75%    2.403165e+06       49.86     ...                         0.03        1.00\nmax    1.226791e+09     1578.13     ...                      9761.34        1.00\n\n[8 rows x 13 columns]",
            "text/html": "<div>\n<style scoped>\n    .dataframe tbody tr th:only-of-type {\n        vertical-align: middle;\n    }\n\n    .dataframe tbody tr th {\n        vertical-align: top;\n    }\n\n    .dataframe thead th {\n        text-align: right;\n    }\n</style>\n<table border=\"1\" class=\"dataframe\">\n  <thead>\n    <tr style=\"text-align: right;\">\n      <th></th>\n      <th>volume</th>\n      <th>close</th>\n      <th>open</th>\n      <th>returnsClosePrevRaw1</th>\n      <th>returnsOpenPrevRaw1</th>\n      <th>returnsClosePrevMktres1</th>\n      <th>returnsOpenPrevMktres1</th>\n      <th>returnsClosePrevRaw10</th>\n      <th>returnsOpenPrevRaw10</th>\n      <th>returnsClosePrevMktres10</th>\n      <th>returnsOpenPrevMktres10</th>\n      <th>returnsOpenNextMktres10</th>\n      <th>universe</th>\n    </tr>\n  </thead>\n  <tbody>\n    <tr>\n      <th>count</th>\n      <td>4.072956e+06</td>\n      <td>4072956.00</td>\n      <td>4072956.00</td>\n      <td>4072956.00</td>\n      <td>4072956.00</td>\n      <td>4056976.00</td>\n      <td>4056968.00</td>\n      <td>4072956.00</td>\n      <td>4072956.00</td>\n      <td>3979946.00</td>\n      <td>3979902.00</td>\n      <td>4072956.00</td>\n      <td>4072956.00</td>\n    </tr>\n    <tr>\n      <th>mean</th>\n      <td>2.665312e+06</td>\n      <td>39.71</td>\n      <td>39.71</td>\n      <td>0.00</td>\n      <td>0.01</td>\n      <td>0.00</td>\n      <td>0.01</td>\n      <td>0.01</td>\n      <td>0.01</td>\n      <td>0.00</td>\n      <td>0.01</td>\n      <td>0.01</td>\n      <td>0.59</td>\n    </tr>\n    <tr>\n      <th>std</th>\n      <td>7.687606e+06</td>\n      <td>42.29</td>\n      <td>42.61</td>\n      <td>0.04</td>\n      <td>7.08</td>\n      <td>0.03</td>\n      <td>6.97</td>\n      <td>0.09</td>\n      <td>7.12</td>\n      <td>0.08</td>\n      <td>7.29</td>\n      <td>7.24</td>\n      <td>0.49</td>\n    </tr>\n    <tr>\n      <th>min</th>\n      <td>0.000000e+00</td>\n      <td>0.07</td>\n      <td>0.01</td>\n      <td>-0.98</td>\n      <td>-1.00</td>\n      <td>-1.24</td>\n      <td>-615.85</td>\n      <td>-0.98</td>\n      <td>-1.00</td>\n      <td>-3.34</td>\n      <td>-1375.05</td>\n      <td>-1375.05</td>\n      <td>0.00</td>\n    </tr>\n    <tr>\n      <th>25%</th>\n      <td>4.657968e+05</td>\n      <td>17.25</td>\n      <td>17.25</td>\n      <td>-0.01</td>\n      <td>-0.01</td>\n      <td>-0.01</td>\n      <td>-0.01</td>\n      <td>-0.03</td>\n      <td>-0.03</td>\n      <td>-0.03</td>\n      <td>-0.03</td>\n      <td>-0.03</td>\n      <td>0.00</td>\n    </tr>\n    <tr>\n      <th>50%</th>\n      <td>9.821000e+05</td>\n      <td>30.30</td>\n      <td>30.29</td>\n      <td>0.00</td>\n      <td>0.00</td>\n      <td>-0.00</td>\n      <td>-0.00</td>\n      <td>0.01</td>\n      <td>0.01</td>\n      <td>0.00</td>\n      <td>0.00</td>\n      <td>0.00</td>\n      <td>1.00</td>\n    </tr>\n    <tr>\n      <th>75%</th>\n      <td>2.403165e+06</td>\n      <td>49.86</td>\n      <td>49.85</td>\n      <td>0.01</td>\n      <td>0.01</td>\n      <td>0.01</td>\n      <td>0.01</td>\n      <td>0.04</td>\n      <td>0.04</td>\n      <td>0.03</td>\n      <td>0.03</td>\n      <td>0.03</td>\n      <td>1.00</td>\n    </tr>\n    <tr>\n      <th>max</th>\n      <td>1.226791e+09</td>\n      <td>1578.13</td>\n      <td>9998.99</td>\n      <td>45.59</td>\n      <td>9209.00</td>\n      <td>45.12</td>\n      <td>8989.21</td>\n      <td>46.67</td>\n      <td>9382.00</td>\n      <td>46.25</td>\n      <td>9761.34</td>\n      <td>9761.34</td>\n      <td>1.00</td>\n    </tr>\n  </tbody>\n</table>\n</div>"
          },
          "metadata": {}
        }
      ]
    },
    {
      "metadata": {
        "_uuid": "1071e4e7739153ffac1af07020e9f9728628b91a"
      },
      "cell_type": "markdown",
      "source": "From previous table, we can see that max open price is 9998.99 and closing price only 1578 - we should look into this. The returnsClosePrevRaw1 column shows us the daily drop or increase in stock price, from max value we get that biggest rise was 45.59 (4559% !!) and min shows that one stock decreased in value almost 100% in one day (-0.978 = -98%).  returnsOpenPrevRaw1 - max 920900%  open price rise in one day. "
    },
    {
      "metadata": {
        "trusted": true,
        "_uuid": "fa148e05fc3c80d1c658ca05c6e03804b0294300",
        "scrolled": true
      },
      "cell_type": "code",
      "source": "# let's have a look on rows, that have more that 70% drop in one day\nmarket_train_df[market_train_df['returnsClosePrevRaw1'] < -.7] \n\n#We can see that 4 of those have same date - 2016.07.07, let's take closer look on surrounding dates for these assets",
      "execution_count": 6,
      "outputs": [
        {
          "output_type": "execute_result",
          "execution_count": 6,
          "data": {
            "text/plain": "                             time assetCode     ...     universe        date\n417063  2008-03-17 22:00:00+00:00     BSC.N     ...          1.0  2008-03-17\n628662  2008-09-29 22:00:00+00:00     SOV.N     ...          1.0  2008-09-29\n660654  2008-10-27 22:00:00+00:00    SVNT.O     ...          0.0  2008-10-27\n866165  2009-04-30 22:00:00+00:00    SQNM.O     ...          1.0  2009-04-30\n1253302 2010-05-05 22:00:00+00:00    ITMN.O     ...          1.0  2010-05-05\n3474114 2015-09-09 22:00:00+00:00    TTPH.O     ...          0.0  2015-09-09\n3607400 2015-12-28 22:00:00+00:00    CMRX.O     ...          0.0  2015-12-28\n3847265 2016-07-07 22:00:00+00:00    FLEX.O     ...          1.0  2016-07-07\n3847633 2016-07-07 22:00:00+00:00     MAT.O     ...          1.0  2016-07-07\n3848074 2016-07-07 22:00:00+00:00    SHLD.O     ...          0.0  2016-07-07\n3848433 2016-07-07 22:00:00+00:00    ZNGA.O     ...          0.0  2016-07-07\n3938226 2016-09-16 22:00:00+00:00    NVAX.O     ...          0.0  2016-09-16\n\n[12 rows x 17 columns]",
            "text/html": "<div>\n<style scoped>\n    .dataframe tbody tr th:only-of-type {\n        vertical-align: middle;\n    }\n\n    .dataframe tbody tr th {\n        vertical-align: top;\n    }\n\n    .dataframe thead th {\n        text-align: right;\n    }\n</style>\n<table border=\"1\" class=\"dataframe\">\n  <thead>\n    <tr style=\"text-align: right;\">\n      <th></th>\n      <th>time</th>\n      <th>assetCode</th>\n      <th>assetName</th>\n      <th>volume</th>\n      <th>close</th>\n      <th>open</th>\n      <th>returnsClosePrevRaw1</th>\n      <th>returnsOpenPrevRaw1</th>\n      <th>returnsClosePrevMktres1</th>\n      <th>returnsOpenPrevMktres1</th>\n      <th>returnsClosePrevRaw10</th>\n      <th>returnsOpenPrevRaw10</th>\n      <th>returnsClosePrevMktres10</th>\n      <th>returnsOpenPrevMktres10</th>\n      <th>returnsOpenNextMktres10</th>\n      <th>universe</th>\n      <th>date</th>\n    </tr>\n  </thead>\n  <tbody>\n    <tr>\n      <th>417063</th>\n      <td>2008-03-17 22:00:00+00:00</td>\n      <td>BSC.N</td>\n      <td>Bear Stearns Companies LLC</td>\n      <td>166719539.0</td>\n      <td>4.81</td>\n      <td>3.17</td>\n      <td>-0.839667</td>\n      <td>-0.941556</td>\n      <td>-0.796695</td>\n      <td>-0.797304</td>\n      <td>-0.937791</td>\n      <td>-0.960186</td>\n      <td>-0.708275</td>\n      <td>-0.787416</td>\n      <td>0.657782</td>\n      <td>1.0</td>\n      <td>2008-03-17</td>\n    </tr>\n    <tr>\n      <th>628662</th>\n      <td>2008-09-29 22:00:00+00:00</td>\n      <td>SOV.N</td>\n      <td>Santander Holdings USA Inc</td>\n      <td>51012315.0</td>\n      <td>2.33</td>\n      <td>8.56</td>\n      <td>-0.721625</td>\n      <td>0.094629</td>\n      <td>-0.292495</td>\n      <td>0.086408</td>\n      <td>-0.741111</td>\n      <td>-0.040359</td>\n      <td>-0.439192</td>\n      <td>0.024449</td>\n      <td>0.101129</td>\n      <td>1.0</td>\n      <td>2008-09-29</td>\n    </tr>\n    <tr>\n      <th>660654</th>\n      <td>2008-10-27 22:00:00+00:00</td>\n      <td>SVNT.O</td>\n      <td>Savient Pharmaceuticals Inc</td>\n      <td>15560744.0</td>\n      <td>3.07</td>\n      <td>6.55</td>\n      <td>-0.734888</td>\n      <td>-0.394080</td>\n      <td>-0.691611</td>\n      <td>-0.367091</td>\n      <td>-0.743525</td>\n      <td>-0.406165</td>\n      <td>-0.481849</td>\n      <td>-0.363624</td>\n      <td>0.577453</td>\n      <td>0.0</td>\n      <td>2008-10-27</td>\n    </tr>\n    <tr>\n      <th>866165</th>\n      <td>2009-04-30 22:00:00+00:00</td>\n      <td>SQNM.O</td>\n      <td>Sequenom Inc</td>\n      <td>88891648.0</td>\n      <td>3.62</td>\n      <td>3.32</td>\n      <td>-0.757210</td>\n      <td>-0.773688</td>\n      <td>-0.755917</td>\n      <td>-0.737863</td>\n      <td>-0.766150</td>\n      <td>-0.784276</td>\n      <td>-0.779298</td>\n      <td>-0.806992</td>\n      <td>-0.045161</td>\n      <td>1.0</td>\n      <td>2009-04-30</td>\n    </tr>\n    <tr>\n      <th>1253302</th>\n      <td>2010-05-05 22:00:00+00:00</td>\n      <td>ITMN.O</td>\n      <td>InterMune Inc</td>\n      <td>45248164.0</td>\n      <td>11.38</td>\n      <td>10.15</td>\n      <td>-0.749560</td>\n      <td>-0.787612</td>\n      <td>-0.721898</td>\n      <td>-0.552954</td>\n      <td>-0.748952</td>\n      <td>-0.778722</td>\n      <td>-0.548359</td>\n      <td>-0.520927</td>\n      <td>0.290792</td>\n      <td>1.0</td>\n      <td>2010-05-05</td>\n    </tr>\n    <tr>\n      <th>3474114</th>\n      <td>2015-09-09 22:00:00+00:00</td>\n      <td>TTPH.O</td>\n      <td>Tetraphase Pharmaceuticals Inc</td>\n      <td>23468076.0</td>\n      <td>9.49</td>\n      <td>9.64</td>\n      <td>-0.788075</td>\n      <td>-0.778340</td>\n      <td>-0.755343</td>\n      <td>-0.729875</td>\n      <td>-0.753826</td>\n      <td>-0.752821</td>\n      <td>-0.717449</td>\n      <td>-0.675231</td>\n      <td>0.064186</td>\n      <td>0.0</td>\n      <td>2015-09-09</td>\n    </tr>\n    <tr>\n      <th>3607400</th>\n      <td>2015-12-28 22:00:00+00:00</td>\n      <td>CMRX.O</td>\n      <td>Chimerix Inc</td>\n      <td>26705567.0</td>\n      <td>6.62</td>\n      <td>7.86</td>\n      <td>-0.813888</td>\n      <td>-0.778279</td>\n      <td>-0.811852</td>\n      <td>-0.773448</td>\n      <td>-0.812305</td>\n      <td>-0.780263</td>\n      <td>-0.794776</td>\n      <td>-0.784926</td>\n      <td>-0.163051</td>\n      <td>0.0</td>\n      <td>2015-12-28</td>\n    </tr>\n    <tr>\n      <th>3847265</th>\n      <td>2016-07-07 22:00:00+00:00</td>\n      <td>FLEX.O</td>\n      <td>Flex Ltd</td>\n      <td>4481469.0</td>\n      <td>11.80</td>\n      <td>11.81</td>\n      <td>-0.904415</td>\n      <td>-0.281630</td>\n      <td>-0.886907</td>\n      <td>-0.273703</td>\n      <td>-0.097859</td>\n      <td>-0.091538</td>\n      <td>-0.223552</td>\n      <td>-0.093630</td>\n      <td>-0.011186</td>\n      <td>1.0</td>\n      <td>2016-07-07</td>\n    </tr>\n    <tr>\n      <th>3847633</th>\n      <td>2016-07-07 22:00:00+00:00</td>\n      <td>MAT.O</td>\n      <td>Mattel Inc</td>\n      <td>2091099.0</td>\n      <td>32.34</td>\n      <td>32.14</td>\n      <td>-0.738032</td>\n      <td>0.492108</td>\n      <td>-0.731417</td>\n      <td>0.463413</td>\n      <td>0.006536</td>\n      <td>-0.001243</td>\n      <td>-0.040354</td>\n      <td>-0.003972</td>\n      <td>-0.077818</td>\n      <td>1.0</td>\n      <td>2016-07-07</td>\n    </tr>\n    <tr>\n      <th>3848074</th>\n      <td>2016-07-07 22:00:00+00:00</td>\n      <td>SHLD.O</td>\n      <td>Sears Holdings Corp</td>\n      <td>497204.0</td>\n      <td>13.40</td>\n      <td>13.27</td>\n      <td>-0.891472</td>\n      <td>0.501131</td>\n      <td>-0.875653</td>\n      <td>0.480682</td>\n      <td>-0.022611</td>\n      <td>-0.058865</td>\n      <td>-0.133526</td>\n      <td>-0.057434</td>\n      <td>0.032036</td>\n      <td>0.0</td>\n      <td>2016-07-07</td>\n    </tr>\n    <tr>\n      <th>3848433</th>\n      <td>2016-07-07 22:00:00+00:00</td>\n      <td>ZNGA.O</td>\n      <td>Zynga Inc</td>\n      <td>34888980.0</td>\n      <td>2.76</td>\n      <td>2.73</td>\n      <td>-0.977646</td>\n      <td>-0.252055</td>\n      <td>-0.899473</td>\n      <td>-0.242279</td>\n      <td>0.086614</td>\n      <td>0.058140</td>\n      <td>-0.614571</td>\n      <td>0.047817</td>\n      <td>-0.045813</td>\n      <td>0.0</td>\n      <td>2016-07-07</td>\n    </tr>\n    <tr>\n      <th>3938226</th>\n      <td>2016-09-16 22:00:00+00:00</td>\n      <td>NVAX.O</td>\n      <td>Novavax Inc</td>\n      <td>242232485.0</td>\n      <td>1.29</td>\n      <td>1.17</td>\n      <td>-0.845324</td>\n      <td>-0.862028</td>\n      <td>-0.835574</td>\n      <td>-0.763006</td>\n      <td>-0.810850</td>\n      <td>-0.829197</td>\n      <td>-0.832264</td>\n      <td>-0.868582</td>\n      <td>0.497091</td>\n      <td>0.0</td>\n      <td>2016-09-16</td>\n    </tr>\n  </tbody>\n</table>\n</div>"
          },
          "metadata": {}
        }
      ]
    },
    {
      "metadata": {
        "trusted": true,
        "_uuid": "bdc27273fdc0046a15e39262629831357003cfdd"
      },
      "cell_type": "code",
      "source": "someAssetsWithBadData = ['FLEX.O','MAT.O','SHLD.O','ZNGA.O']\nsomeMarketData = market_train_df[(market_train_df['assetCode'].isin(someAssetsWithBadData)) \n                & (market_train_df['time'] >= '2016-07-05')\n                & (market_train_df['time'] < '2016-07-08')].sort_values('assetCode')\nsomeMarketData\n\n#From here we get that, all these have similar close value on 6th - 123.45 and 123.47.\n# I would have a look on all data between these dates, seems like input error. close-open >=10",
      "execution_count": 7,
      "outputs": [
        {
          "output_type": "execute_result",
          "execution_count": 7,
          "data": {
            "text/plain": "                             time assetCode     ...     universe        date\n3843668 2016-07-05 22:00:00+00:00    FLEX.O     ...          1.0  2016-07-05\n3845467 2016-07-06 22:00:00+00:00    FLEX.O     ...          1.0  2016-07-06\n3847265 2016-07-07 22:00:00+00:00    FLEX.O     ...          1.0  2016-07-07\n3844037 2016-07-05 22:00:00+00:00     MAT.O     ...          1.0  2016-07-05\n3845835 2016-07-06 22:00:00+00:00     MAT.O     ...          1.0  2016-07-06\n3847633 2016-07-07 22:00:00+00:00     MAT.O     ...          1.0  2016-07-07\n3844479 2016-07-05 22:00:00+00:00    SHLD.O     ...          0.0  2016-07-05\n3846276 2016-07-06 22:00:00+00:00    SHLD.O     ...          0.0  2016-07-06\n3848074 2016-07-07 22:00:00+00:00    SHLD.O     ...          0.0  2016-07-07\n3844838 2016-07-05 22:00:00+00:00    ZNGA.O     ...          0.0  2016-07-05\n3846636 2016-07-06 22:00:00+00:00    ZNGA.O     ...          0.0  2016-07-06\n3848433 2016-07-07 22:00:00+00:00    ZNGA.O     ...          0.0  2016-07-07\n\n[12 rows x 17 columns]",
            "text/html": "<div>\n<style scoped>\n    .dataframe tbody tr th:only-of-type {\n        vertical-align: middle;\n    }\n\n    .dataframe tbody tr th {\n        vertical-align: top;\n    }\n\n    .dataframe thead th {\n        text-align: right;\n    }\n</style>\n<table border=\"1\" class=\"dataframe\">\n  <thead>\n    <tr style=\"text-align: right;\">\n      <th></th>\n      <th>time</th>\n      <th>assetCode</th>\n      <th>assetName</th>\n      <th>volume</th>\n      <th>close</th>\n      <th>open</th>\n      <th>returnsClosePrevRaw1</th>\n      <th>returnsOpenPrevRaw1</th>\n      <th>returnsClosePrevMktres1</th>\n      <th>returnsOpenPrevMktres1</th>\n      <th>returnsClosePrevRaw10</th>\n      <th>returnsOpenPrevRaw10</th>\n      <th>returnsClosePrevMktres10</th>\n      <th>returnsOpenPrevMktres10</th>\n      <th>returnsOpenNextMktres10</th>\n      <th>universe</th>\n      <th>date</th>\n    </tr>\n  </thead>\n  <tbody>\n    <tr>\n      <th>3843668</th>\n      <td>2016-07-05 22:00:00+00:00</td>\n      <td>FLEX.O</td>\n      <td>Flex Ltd</td>\n      <td>3839393.0</td>\n      <td>11.66</td>\n      <td>11.70</td>\n      <td>-0.010187</td>\n      <td>-0.005102</td>\n      <td>-0.000815</td>\n      <td>-0.003561</td>\n      <td>-0.101695</td>\n      <td>-0.090909</td>\n      <td>-0.103166</td>\n      <td>-0.097041</td>\n      <td>-0.247207</td>\n      <td>1.0</td>\n      <td>2016-07-05</td>\n    </tr>\n    <tr>\n      <th>3845467</th>\n      <td>2016-07-06 22:00:00+00:00</td>\n      <td>FLEX.O</td>\n      <td>Flex Ltd</td>\n      <td>175451.0</td>\n      <td>123.45</td>\n      <td>16.44</td>\n      <td>9.587479</td>\n      <td>0.405128</td>\n      <td>9.482848</td>\n      <td>0.404713</td>\n      <td>8.503464</td>\n      <td>0.254962</td>\n      <td>8.425788</td>\n      <td>0.255200</td>\n      <td>0.087592</td>\n      <td>1.0</td>\n      <td>2016-07-06</td>\n    </tr>\n    <tr>\n      <th>3847265</th>\n      <td>2016-07-07 22:00:00+00:00</td>\n      <td>FLEX.O</td>\n      <td>Flex Ltd</td>\n      <td>4481469.0</td>\n      <td>11.80</td>\n      <td>11.81</td>\n      <td>-0.904415</td>\n      <td>-0.281630</td>\n      <td>-0.886907</td>\n      <td>-0.273703</td>\n      <td>-0.097859</td>\n      <td>-0.091538</td>\n      <td>-0.223552</td>\n      <td>-0.093630</td>\n      <td>-0.011186</td>\n      <td>1.0</td>\n      <td>2016-07-07</td>\n    </tr>\n    <tr>\n      <th>3844037</th>\n      <td>2016-07-05 22:00:00+00:00</td>\n      <td>MAT.O</td>\n      <td>Mattel Inc</td>\n      <td>3333108.0</td>\n      <td>31.62</td>\n      <td>31.46</td>\n      <td>0.002219</td>\n      <td>0.005433</td>\n      <td>0.014722</td>\n      <td>0.008522</td>\n      <td>-0.024676</td>\n      <td>-0.019021</td>\n      <td>-0.027185</td>\n      <td>-0.029008</td>\n      <td>0.396756</td>\n      <td>1.0</td>\n      <td>2016-07-05</td>\n    </tr>\n    <tr>\n      <th>3845835</th>\n      <td>2016-07-06 22:00:00+00:00</td>\n      <td>MAT.O</td>\n      <td>Mattel Inc</td>\n      <td>56994.0</td>\n      <td>123.45</td>\n      <td>21.54</td>\n      <td>2.904175</td>\n      <td>-0.315321</td>\n      <td>2.864919</td>\n      <td>-0.304480</td>\n      <td>2.842204</td>\n      <td>-0.334363</td>\n      <td>2.812233</td>\n      <td>-0.334071</td>\n      <td>-0.069237</td>\n      <td>1.0</td>\n      <td>2016-07-06</td>\n    </tr>\n    <tr>\n      <th>3847633</th>\n      <td>2016-07-07 22:00:00+00:00</td>\n      <td>MAT.O</td>\n      <td>Mattel Inc</td>\n      <td>2091099.0</td>\n      <td>32.34</td>\n      <td>32.14</td>\n      <td>-0.738032</td>\n      <td>0.492108</td>\n      <td>-0.731417</td>\n      <td>0.463413</td>\n      <td>0.006536</td>\n      <td>-0.001243</td>\n      <td>-0.040354</td>\n      <td>-0.003972</td>\n      <td>-0.077818</td>\n      <td>1.0</td>\n      <td>2016-07-07</td>\n    </tr>\n    <tr>\n      <th>3844479</th>\n      <td>2016-07-05 22:00:00+00:00</td>\n      <td>SHLD.O</td>\n      <td>Sears Holdings Corp</td>\n      <td>388228.0</td>\n      <td>12.98</td>\n      <td>13.63</td>\n      <td>-0.065515</td>\n      <td>0.009630</td>\n      <td>-0.054871</td>\n      <td>0.010488</td>\n      <td>-0.070201</td>\n      <td>-0.046853</td>\n      <td>-0.072216</td>\n      <td>-0.058148</td>\n      <td>0.541448</td>\n      <td>0.0</td>\n      <td>2016-07-05</td>\n    </tr>\n    <tr>\n      <th>3846276</th>\n      <td>2016-07-06 22:00:00+00:00</td>\n      <td>SHLD.O</td>\n      <td>Sears Holdings Corp</td>\n      <td>80940.0</td>\n      <td>123.47</td>\n      <td>8.84</td>\n      <td>8.512327</td>\n      <td>-0.351431</td>\n      <td>8.417827</td>\n      <td>-0.345786</td>\n      <td>7.781650</td>\n      <td>-0.370819</td>\n      <td>7.710716</td>\n      <td>-0.370630</td>\n      <td>0.059298</td>\n      <td>0.0</td>\n      <td>2016-07-06</td>\n    </tr>\n    <tr>\n      <th>3848074</th>\n      <td>2016-07-07 22:00:00+00:00</td>\n      <td>SHLD.O</td>\n      <td>Sears Holdings Corp</td>\n      <td>497204.0</td>\n      <td>13.40</td>\n      <td>13.27</td>\n      <td>-0.891472</td>\n      <td>0.501131</td>\n      <td>-0.875653</td>\n      <td>0.480682</td>\n      <td>-0.022611</td>\n      <td>-0.058865</td>\n      <td>-0.133526</td>\n      <td>-0.057434</td>\n      <td>0.032036</td>\n      <td>0.0</td>\n      <td>2016-07-07</td>\n    </tr>\n    <tr>\n      <th>3844838</th>\n      <td>2016-07-05 22:00:00+00:00</td>\n      <td>ZNGA.O</td>\n      <td>Zynga Inc</td>\n      <td>9732445.0</td>\n      <td>2.65</td>\n      <td>2.60</td>\n      <td>0.039216</td>\n      <td>0.044177</td>\n      <td>0.048598</td>\n      <td>0.045064</td>\n      <td>0.031128</td>\n      <td>0.044177</td>\n      <td>0.026816</td>\n      <td>0.029699</td>\n      <td>-0.306158</td>\n      <td>0.0</td>\n      <td>2016-07-05</td>\n    </tr>\n    <tr>\n      <th>3846636</th>\n      <td>2016-07-06 22:00:00+00:00</td>\n      <td>ZNGA.O</td>\n      <td>Zynga Inc</td>\n      <td>418847.0</td>\n      <td>123.47</td>\n      <td>3.65</td>\n      <td>45.592453</td>\n      <td>0.403846</td>\n      <td>45.122435</td>\n      <td>0.401845</td>\n      <td>46.671815</td>\n      <td>0.420233</td>\n      <td>46.249715</td>\n      <td>0.420887</td>\n      <td>-0.045244</td>\n      <td>0.0</td>\n      <td>2016-07-06</td>\n    </tr>\n    <tr>\n      <th>3848433</th>\n      <td>2016-07-07 22:00:00+00:00</td>\n      <td>ZNGA.O</td>\n      <td>Zynga Inc</td>\n      <td>34888980.0</td>\n      <td>2.76</td>\n      <td>2.73</td>\n      <td>-0.977646</td>\n      <td>-0.252055</td>\n      <td>-0.899473</td>\n      <td>-0.242279</td>\n      <td>0.086614</td>\n      <td>0.058140</td>\n      <td>-0.614571</td>\n      <td>0.047817</td>\n      <td>-0.045813</td>\n      <td>0.0</td>\n      <td>2016-07-07</td>\n    </tr>\n  </tbody>\n</table>\n</div>"
          },
          "metadata": {}
        }
      ]
    },
    {
      "metadata": {
        "trusted": true,
        "_uuid": "265ce5faba3f3f14f76c9d439a044ef246961182"
      },
      "cell_type": "code",
      "source": "#difference between close/open price is more than 10 (change in one day)\nsomeMarketData2 = market_train_df[(market_train_df['time'] >= '2016-07-05') & (market_train_df['time'] < '2016-07-08') \n                                  & (market_train_df['close'] - market_train_df['open'] >=10)].sort_values('assetCode')\nAssetsWithBadData=someMarketData2[(someMarketData2['close'] == 123.45)|(someMarketData2['close'] == 123.47)]['assetCode']\nsomeMarketData2",
      "execution_count": 8,
      "outputs": [
        {
          "output_type": "execute_result",
          "execution_count": 8,
          "data": {
            "text/plain": "                             time assetCode     ...     universe        date\n3844944 2016-07-06 22:00:00+00:00    AMZN.O     ...          1.0  2016-07-06\n3845015 2016-07-06 22:00:00+00:00    BBBY.O     ...          1.0  2016-07-06\n3845309 2016-07-06 22:00:00+00:00    DISH.O     ...          1.0  2016-07-06\n3845467 2016-07-06 22:00:00+00:00    FLEX.O     ...          1.0  2016-07-06\n3845835 2016-07-06 22:00:00+00:00     MAT.O     ...          1.0  2016-07-06\n3845946 2016-07-06 22:00:00+00:00    NDAQ.O     ...          1.0  2016-07-06\n3846067 2016-07-06 22:00:00+00:00    PCAR.O     ...          1.0  2016-07-06\n3844271 2016-07-05 22:00:00+00:00    PCLN.O     ...          1.0  2016-07-05\n3846069 2016-07-06 22:00:00+00:00    PCLN.O     ...          1.0  2016-07-06\n3846151 2016-07-06 22:00:00+00:00    PZZA.O     ...          0.0  2016-07-06\n3846186 2016-07-06 22:00:00+00:00    REGN.O     ...          1.0  2016-07-06\n3846276 2016-07-06 22:00:00+00:00    SHLD.O     ...          0.0  2016-07-06\n3846636 2016-07-06 22:00:00+00:00    ZNGA.O     ...          0.0  2016-07-06\n\n[13 rows x 17 columns]",
            "text/html": "<div>\n<style scoped>\n    .dataframe tbody tr th:only-of-type {\n        vertical-align: middle;\n    }\n\n    .dataframe tbody tr th {\n        vertical-align: top;\n    }\n\n    .dataframe thead th {\n        text-align: right;\n    }\n</style>\n<table border=\"1\" class=\"dataframe\">\n  <thead>\n    <tr style=\"text-align: right;\">\n      <th></th>\n      <th>time</th>\n      <th>assetCode</th>\n      <th>assetName</th>\n      <th>volume</th>\n      <th>close</th>\n      <th>open</th>\n      <th>returnsClosePrevRaw1</th>\n      <th>returnsOpenPrevRaw1</th>\n      <th>returnsClosePrevMktres1</th>\n      <th>returnsOpenPrevMktres1</th>\n      <th>returnsClosePrevRaw10</th>\n      <th>returnsOpenPrevRaw10</th>\n      <th>returnsClosePrevMktres10</th>\n      <th>returnsOpenPrevMktres10</th>\n      <th>returnsOpenNextMktres10</th>\n      <th>universe</th>\n      <th>date</th>\n    </tr>\n  </thead>\n  <tbody>\n    <tr>\n      <th>3844944</th>\n      <td>2016-07-06 22:00:00+00:00</td>\n      <td>AMZN.O</td>\n      <td>Amazon.com Inc</td>\n      <td>3938249.0</td>\n      <td>737.61</td>\n      <td>725.71</td>\n      <td>0.013061</td>\n      <td>0.004026</td>\n      <td>0.008342</td>\n      <td>0.004942</td>\n      <td>0.030441</td>\n      <td>0.013958</td>\n      <td>0.024262</td>\n      <td>0.014334</td>\n      <td>-0.020081</td>\n      <td>1.0</td>\n      <td>2016-07-06</td>\n    </tr>\n    <tr>\n      <th>3845015</th>\n      <td>2016-07-06 22:00:00+00:00</td>\n      <td>BBBY.O</td>\n      <td>Bed Bath &amp; Beyond Inc</td>\n      <td>50303.0</td>\n      <td>123.45</td>\n      <td>30.68</td>\n      <td>1.921202</td>\n      <td>-0.295522</td>\n      <td>1.897847</td>\n      <td>-0.291610</td>\n      <td>1.849065</td>\n      <td>-0.303044</td>\n      <td>1.826249</td>\n      <td>-0.302549</td>\n      <td>-0.047101</td>\n      <td>1.0</td>\n      <td>2016-07-06</td>\n    </tr>\n    <tr>\n      <th>3845309</th>\n      <td>2016-07-06 22:00:00+00:00</td>\n      <td>DISH.O</td>\n      <td>DISH Network Corp</td>\n      <td>87466.0</td>\n      <td>123.47</td>\n      <td>63.29</td>\n      <td>1.430033</td>\n      <td>0.206903</td>\n      <td>1.407708</td>\n      <td>0.208864</td>\n      <td>1.325673</td>\n      <td>0.187207</td>\n      <td>1.295536</td>\n      <td>0.188725</td>\n      <td>-0.030583</td>\n      <td>1.0</td>\n      <td>2016-07-06</td>\n    </tr>\n    <tr>\n      <th>3845467</th>\n      <td>2016-07-06 22:00:00+00:00</td>\n      <td>FLEX.O</td>\n      <td>Flex Ltd</td>\n      <td>175451.0</td>\n      <td>123.45</td>\n      <td>16.44</td>\n      <td>9.587479</td>\n      <td>0.405128</td>\n      <td>9.482848</td>\n      <td>0.404713</td>\n      <td>8.503464</td>\n      <td>0.254962</td>\n      <td>8.425788</td>\n      <td>0.255200</td>\n      <td>0.087592</td>\n      <td>1.0</td>\n      <td>2016-07-06</td>\n    </tr>\n    <tr>\n      <th>3845835</th>\n      <td>2016-07-06 22:00:00+00:00</td>\n      <td>MAT.O</td>\n      <td>Mattel Inc</td>\n      <td>56994.0</td>\n      <td>123.45</td>\n      <td>21.54</td>\n      <td>2.904175</td>\n      <td>-0.315321</td>\n      <td>2.864919</td>\n      <td>-0.304480</td>\n      <td>2.842204</td>\n      <td>-0.334363</td>\n      <td>2.812233</td>\n      <td>-0.334071</td>\n      <td>-0.069237</td>\n      <td>1.0</td>\n      <td>2016-07-06</td>\n    </tr>\n    <tr>\n      <th>3845946</th>\n      <td>2016-07-06 22:00:00+00:00</td>\n      <td>NDAQ.O</td>\n      <td>Nasdaq Inc</td>\n      <td>113350.0</td>\n      <td>123.47</td>\n      <td>71.51</td>\n      <td>0.911596</td>\n      <td>0.122254</td>\n      <td>0.897776</td>\n      <td>0.122543</td>\n      <td>0.960775</td>\n      <td>0.135801</td>\n      <td>0.946862</td>\n      <td>0.136170</td>\n      <td>0.001852</td>\n      <td>1.0</td>\n      <td>2016-07-06</td>\n    </tr>\n    <tr>\n      <th>3846067</th>\n      <td>2016-07-06 22:00:00+00:00</td>\n      <td>PCAR.O</td>\n      <td>Paccar Inc</td>\n      <td>63374.0</td>\n      <td>123.45</td>\n      <td>66.41</td>\n      <td>1.445523</td>\n      <td>0.285521</td>\n      <td>1.420271</td>\n      <td>0.288671</td>\n      <td>1.261818</td>\n      <td>0.218979</td>\n      <td>1.242209</td>\n      <td>0.219653</td>\n      <td>0.030409</td>\n      <td>1.0</td>\n      <td>2016-07-06</td>\n    </tr>\n    <tr>\n      <th>3844271</th>\n      <td>2016-07-05 22:00:00+00:00</td>\n      <td>PCLN.O</td>\n      <td>Booking Holdings Inc</td>\n      <td>568815.0</td>\n      <td>1275.03</td>\n      <td>1259.56</td>\n      <td>0.006044</td>\n      <td>0.008447</td>\n      <td>0.021392</td>\n      <td>0.010721</td>\n      <td>-0.049875</td>\n      <td>-0.048412</td>\n      <td>-0.054914</td>\n      <td>-0.064660</td>\n      <td>-0.023824</td>\n      <td>1.0</td>\n      <td>2016-07-05</td>\n    </tr>\n    <tr>\n      <th>3846069</th>\n      <td>2016-07-06 22:00:00+00:00</td>\n      <td>PCLN.O</td>\n      <td>Booking Holdings Inc</td>\n      <td>562266.0</td>\n      <td>1292.04</td>\n      <td>1269.86</td>\n      <td>0.013341</td>\n      <td>0.008177</td>\n      <td>0.001566</td>\n      <td>0.013722</td>\n      <td>-0.037981</td>\n      <td>-0.055410</td>\n      <td>-0.047257</td>\n      <td>-0.054742</td>\n      <td>-0.018944</td>\n      <td>1.0</td>\n      <td>2016-07-06</td>\n    </tr>\n    <tr>\n      <th>3846151</th>\n      <td>2016-07-06 22:00:00+00:00</td>\n      <td>PZZA.O</td>\n      <td>Papa John's International Inc</td>\n      <td>25050.0</td>\n      <td>123.45</td>\n      <td>71.89</td>\n      <td>0.817580</td>\n      <td>0.056429</td>\n      <td>0.805544</td>\n      <td>0.056785</td>\n      <td>0.857229</td>\n      <td>0.076198</td>\n      <td>0.847870</td>\n      <td>0.076377</td>\n      <td>0.054807</td>\n      <td>0.0</td>\n      <td>2016-07-06</td>\n    </tr>\n    <tr>\n      <th>3846186</th>\n      <td>2016-07-06 22:00:00+00:00</td>\n      <td>REGN.O</td>\n      <td>Regeneron Pharmaceuticals Inc</td>\n      <td>1031214.0</td>\n      <td>371.57</td>\n      <td>357.90</td>\n      <td>0.033258</td>\n      <td>-0.012008</td>\n      <td>0.026234</td>\n      <td>-0.008994</td>\n      <td>0.076578</td>\n      <td>0.011017</td>\n      <td>0.065067</td>\n      <td>0.011779</td>\n      <td>-0.034822</td>\n      <td>1.0</td>\n      <td>2016-07-06</td>\n    </tr>\n    <tr>\n      <th>3846276</th>\n      <td>2016-07-06 22:00:00+00:00</td>\n      <td>SHLD.O</td>\n      <td>Sears Holdings Corp</td>\n      <td>80940.0</td>\n      <td>123.47</td>\n      <td>8.84</td>\n      <td>8.512327</td>\n      <td>-0.351431</td>\n      <td>8.417827</td>\n      <td>-0.345786</td>\n      <td>7.781650</td>\n      <td>-0.370819</td>\n      <td>7.710716</td>\n      <td>-0.370630</td>\n      <td>0.059298</td>\n      <td>0.0</td>\n      <td>2016-07-06</td>\n    </tr>\n    <tr>\n      <th>3846636</th>\n      <td>2016-07-06 22:00:00+00:00</td>\n      <td>ZNGA.O</td>\n      <td>Zynga Inc</td>\n      <td>418847.0</td>\n      <td>123.47</td>\n      <td>3.65</td>\n      <td>45.592453</td>\n      <td>0.403846</td>\n      <td>45.122435</td>\n      <td>0.401845</td>\n      <td>46.671815</td>\n      <td>0.420233</td>\n      <td>46.249715</td>\n      <td>0.420887</td>\n      <td>-0.045244</td>\n      <td>0.0</td>\n      <td>2016-07-06</td>\n    </tr>\n  </tbody>\n</table>\n</div>"
          },
          "metadata": {}
        }
      ]
    },
    {
      "metadata": {
        "_uuid": "6bd92aaf38c04831c9c0031feec6b3ee9a43cd4e"
      },
      "cell_type": "markdown",
      "source": "Turns out there are 9 assets with same error, next we will need to fix these errors. \n\n\nAssets: BBBY.O, DISH.O, FLEX.O, MAT.O, NDAQ.O, PCAR.O, PZZA.O, SHLD.O, ZNGA.O"
    },
    {
      "metadata": {
        "trusted": true,
        "_uuid": "5b8bbab7f682c4dedd16bddb83a98d6fc9b8c098"
      },
      "cell_type": "markdown",
      "source": "#### Fixing 2016-07-06 errors"
    },
    {
      "metadata": {
        "_kg_hide-output": false,
        "_kg_hide-input": false,
        "trusted": true,
        "_uuid": "b34b1703564158f441c6591e7dd49b19c779c136"
      },
      "cell_type": "code",
      "source": "def sampleAssetData(assetCode, date, numDays):\n    d = datetime.strptime(date,'%Y-%m-%d')\n    start = d - timedelta(days=numDays)\n    end = d + timedelta(days=numDays)\n    return market_train_df[(market_train_df['assetCode'] == assetCode)\n                             & (market_train_df['time'] >= start.strftime('%Y-%m-%d'))\n                             & (market_train_df['time'] <= end.strftime('%Y-%m-%d'))].copy()\n\ndef updateRawReturns(assetData, indices):\n    rowsToUpdate1 = assetData[(assetData.index >= indices[0][0]) & (assetData.index <= indices[0][1])]\n    for index, row in rowsToUpdate1.iterrows():\n        market_train_df.loc[[index],['returnsClosePrevRaw1']] = assetData['close'].pct_change()\n        market_train_df.loc[[index],['returnsOpenPrevRaw1']] = assetData['open'].pct_change()\n    rowsToUpdate2 = assetData[(assetData.index >= indices[1][0]) & (assetData.index <= indices[1][1])]\n    for index, row in rowsToUpdate2.iterrows():\n        market_train_df.loc[[index],['returnsClosePrevRaw10']] = assetData['close'].pct_change(periods=10)\n        market_train_df.loc[[index],['returnsOpenPrevRaw10']] = assetData['open'].pct_change(periods=10)\n        \ndef estimateMktresReturn(sampleData, mktresCol, index):\n    sampleData['ones'] = 1\n    sampleData.dropna(inplace=True)\n    rawCol = mktresCol.replace('Mktres','Raw')\n    A = sampleData[[rawCol,'ones']]\n    y = sampleData[mktresCol]\n    m, c = np.linalg.lstsq(A,y,rcond=-1)[0]\n    return c + m * market_train_df.loc[index,rawCol]\n\ndef updateMktresReturns(assetCode, assetData, indices):\n    # update range of values for returnsClosePrevMktres1 & returnsOpenPrevMktres1\n    sample1 = assetData[(assetData.index < indices[2][0]) | (assetData.index > indices[2][1])]\n    rowsToUpdate1 = assetData[(assetData.index >= indices[2][0]) & (assetData.index <= indices[2][1])]\n    for index, row in rowsToUpdate1.iterrows():\n        market_train_df.loc[[index],['returnsClosePrevMktres1']] = estimateMktresReturn(sample1,'returnsClosePrevMktres1',index)\n        market_train_df.loc[[index],['returnsOpenPrevMktres1']] = estimateMktresReturn(sample1,'returnsOpenPrevMktres1',index)\n    # update range of values for returnsClosePrevMktres10 & returnsOpenPrevMktres10\n    sample2 = assetData[(assetData.index < indices[3][0]) | (assetData.index > indices[3][1])]\n    rowsToUpdate2 = assetData[(assetData.index >= indices[3][0]) & (assetData.index <= indices[3][1])]\n    l = []\n    for index, row in rowsToUpdate2.iterrows():\n        market_train_df.loc[[index],['returnsClosePrevMktres10']] = estimateMktresReturn(sample2,'returnsClosePrevMktres10',index)\n        est = estimateMktresReturn(sample2,'returnsOpenPrevMktres10',index)\n        l.append(est)\n        market_train_df.loc[[index],['returnsOpenPrevMktres10']] = est\n    # update range of values for returnsOpenNextMktres10\n    rowsToUpdate3 = assetData[(assetData.index >= indices[4][0]) & (assetData.index <= indices[4][1])]\n    i = 0\n    for index, row in rowsToUpdate3.iterrows():\n        market_train_df.loc[[index],['returnsOpenNextMktres10']] = l[i]\n        i += 1\n        \ndef fixBadReturnData(assetCode, badDate, badIndex, badReturnDataRanges, dayWindow):\n    # store copy of bad data window\n    badDataWindow = sampleAssetData(assetCode,badDate,dayWindow)\n    badDataWindow.reset_index(inplace=True)\n    # store indices needed to update raw and mktres return data\n    newIdx = badDataWindow[badDataWindow['index'] == badIndex].index[0]\n    indices = [\n        # range of bad data for... returnsClosePrevRaw1 & returnsOpenPrevRaw1\n        [badIndex,badDataWindow.loc[newIdx+badReturnDataRanges[0],'index']],\n        # returnsClosePrevRaw10 & returnsOpenPrevRaw10\n        [badIndex,badDataWindow.loc[newIdx+badReturnDataRanges[1],'index']],\n        # returnsClosePrevMktres1 & returnsOpenPrevMktres1\n        [badIndex,badDataWindow.loc[newIdx+badReturnDataRanges[2],'index']],\n        # returnsClosePrevMktres10 & returnsOpenPrevMktres10\n        [badIndex,badDataWindow.loc[newIdx+badReturnDataRanges[3],'index']],\n        # returnsOpenNextMktres10\n        [badDataWindow.loc[newIdx+badReturnDataRanges[4],'index'],badDataWindow.loc[newIdx+badReturnDataRanges[5],'index']]\n    ]\n    badDataWindow.set_index('index',inplace=True)\n    # correct bad raw return data\n    updateRawReturns(badDataWindow,indices)\n    # estimate affected mktres return data\n    updateMktresReturns(assetCode,badDataWindow,indices)",
      "execution_count": 9,
      "outputs": []
    },
    {
      "metadata": {
        "trusted": true,
        "_uuid": "85846a43f1af90710ae5ae18157b5e85f2adc4c8"
      },
      "cell_type": "code",
      "source": "# dropping ZNGA.O data in May-Aug 2016\nmarket_train_df = market_train_df[~((market_train_df['assetCode'] == 'ZNGA.O')\n                                  & (market_train_df['time'] >= '2016-05-21')\n                                  & (market_train_df['time'] <= '2016-08-21'))]",
      "execution_count": 10,
      "outputs": []
    },
    {
      "metadata": {
        "trusted": true,
        "_uuid": "2b3e812f0bba322625e7a582d6d303b62e529f30"
      },
      "cell_type": "code",
      "source": "# dropping FLEX.O data in May-Aug 2016\nmarket_train_df = market_train_df[~((market_train_df['assetCode'] == 'FLEX.O')\n                                  & (market_train_df['time'] >= '2016-05-21')\n                                  & (market_train_df['time'] <= '2016-08-21'))]",
      "execution_count": 11,
      "outputs": []
    },
    {
      "metadata": {
        "trusted": true,
        "_uuid": "fb7b02c9f9f28c5960759d94734b879c4f50be83"
      },
      "cell_type": "code",
      "source": "# dropping SHLD.O data in May-Aug 2016\nmarket_train_df = market_train_df[~((market_train_df['assetCode'] == 'SHLD.O')\n                                  & (market_train_df['time'] >= '2016-05-21')\n                                  & (market_train_df['time'] <= '2016-08-21'))]",
      "execution_count": 12,
      "outputs": []
    },
    {
      "metadata": {
        "trusted": true,
        "_uuid": "9343fda9b568f6ad674483cb81cbe19f53cdc2e6"
      },
      "cell_type": "code",
      "source": "# dropping MAT.O data in May-Aug 2016\nmarket_train_df = market_train_df[~((market_train_df['assetCode'] == 'MAT.O')\n                                  & (market_train_df['time'] >= '2016-05-21')\n                                  & (market_train_df['time'] <= '2016-08-21'))]",
      "execution_count": 13,
      "outputs": []
    },
    {
      "metadata": {
        "trusted": true,
        "_uuid": "c2cb059314f6c6b8a141c3e7a0b70db7e520aac0"
      },
      "cell_type": "code",
      "source": "market_train_df.shape",
      "execution_count": 14,
      "outputs": [
        {
          "output_type": "execute_result",
          "execution_count": 14,
          "data": {
            "text/plain": "(4072704, 17)"
          },
          "metadata": {}
        }
      ]
    },
    {
      "metadata": {
        "trusted": true,
        "_uuid": "a3d7876908e76067a2f83902ac5471c788acc839"
      },
      "cell_type": "code",
      "source": "# dropping BBBY.O data in May-Aug 2016\nmarket_train_df = market_train_df[~((market_train_df['assetCode'] == 'BBBY.O')\n                                  & (market_train_df['time'] >= '2016-05-21')\n                                  & (market_train_df['time'] <= '2016-08-21'))]",
      "execution_count": 15,
      "outputs": []
    },
    {
      "metadata": {
        "trusted": true,
        "_uuid": "caac6e493630a94ec142a0a5feff128b20971dd6"
      },
      "cell_type": "code",
      "source": "# dropping DISH.O data in May-Aug 2016\nmarket_train_df = market_train_df[~((market_train_df['assetCode'] == 'DISH.O')\n                                  & (market_train_df['time'] >= '2016-05-21')\n                                  & (market_train_df['time'] <= '2016-08-21'))]",
      "execution_count": 16,
      "outputs": []
    },
    {
      "metadata": {
        "trusted": true,
        "_uuid": "d5097c8e0db9cff7b1be71a33c4cf0e4ba0e3e1a"
      },
      "cell_type": "code",
      "source": "# dropping NDAQ.O data in May-Aug 2016\nmarket_train_df = market_train_df[~((market_train_df['assetCode'] == 'NDAQ.O')\n                                  & (market_train_df['time'] >= '2016-05-21')\n                                  & (market_train_df['time'] <= '2016-08-21'))]",
      "execution_count": 17,
      "outputs": []
    },
    {
      "metadata": {
        "trusted": true,
        "_uuid": "b5340fa911a9a1ef1cce0700b46ab8241472358b"
      },
      "cell_type": "code",
      "source": "# dropping PCAR.O data in May-Aug 2016\nmarket_train_df = market_train_df[~((market_train_df['assetCode'] == 'PCAR.O')\n                                  & (market_train_df['time'] >= '2016-05-21')\n                                  & (market_train_df['time'] <= '2016-08-21'))]",
      "execution_count": 18,
      "outputs": []
    },
    {
      "metadata": {
        "trusted": true,
        "_uuid": "bc0915e358307654b6efc703905003bc1073ec94"
      },
      "cell_type": "code",
      "source": "# dropping PZZA.O data in May-Aug 2016\nmarket_train_df = market_train_df[~((market_train_df['assetCode'] == 'PZZA.O')\n                                  & (market_train_df['time'] >= '2016-05-21')\n                                  & (market_train_df['time'] <= '2016-08-21'))]",
      "execution_count": 19,
      "outputs": []
    },
    {
      "metadata": {
        "trusted": true,
        "_uuid": "2aeccf50f12727b5ea8ac4b5f466e11021cb32ad"
      },
      "cell_type": "code",
      "source": "market_train_df.shape",
      "execution_count": 20,
      "outputs": [
        {
          "output_type": "execute_result",
          "execution_count": 20,
          "data": {
            "text/plain": "(4072389, 17)"
          },
          "metadata": {}
        }
      ]
    },
    {
      "metadata": {
        "_uuid": "7cedcc77963386a9269a4e444caf8eebea1a6377"
      },
      "cell_type": "markdown",
      "source": "#### There is one asset that has two asset codes: \"TW.N\" and \"WW.N\", where the last one is erroneous."
    },
    {
      "metadata": {
        "trusted": true,
        "_uuid": "6fda221d20e53f8e29375f34a79c809fc29901e1"
      },
      "cell_type": "code",
      "source": "# Fix asset code \"WW.N\" and remove the observations with erroneous return data\nmarket_train_df.loc[market_train_df['assetCode'] == 'WW.N','assetCode'] = 'TW.N'\nmarket_train_df = market_train_df[~((market_train_df['assetCode'] == 'TW.N')\n                                  & (market_train_df['time'] >= '2009-12-16')\n                                  & (market_train_df['time'] < '2010-01-08'))]",
      "execution_count": 21,
      "outputs": []
    },
    {
      "metadata": {
        "trusted": true,
        "_uuid": "c4069bdc7c745ac57a64a03477b4cb1dbe89cfd9"
      },
      "cell_type": "code",
      "source": "# dropping Qorvo data through 2015-02-13\nmarket_train_df = market_train_df[~((market_train_df['assetCode'] == 'QRVO.O')\n                                  & (market_train_df['time'] < '2015-02-14'))]",
      "execution_count": 22,
      "outputs": []
    },
    {
      "metadata": {
        "trusted": true,
        "_uuid": "5404e3c323af97e3c865ad77617980acbd15dce1"
      },
      "cell_type": "code",
      "source": "# bad return data for PGN.N from 2011-10-19 to 2012-03-28\nassetCode = 'PGN.N'\n# fix first section of incorrect raw returns\nbadDate1 = '2011-12-23'\nbadIndex1 = market_train_df[(market_train_df['assetCode'] == assetCode) & (market_train_df['date'] == badDate1)].index[0]\ndayWindow1 = 20\nbadReturnDataRanges1 = [0,9]\nbadDataWindow1 = sampleAssetData(assetCode,badDate1,dayWindow1)\nbadDataWindow1.reset_index(inplace=True)\nnewIdx1 = badDataWindow1[badDataWindow1['index'] == badIndex1].index[0]\nrawIndices1 = [\n    [badIndex1,badDataWindow1.loc[newIdx1+badReturnDataRanges1[0],'index']],\n    [badIndex1,badDataWindow1.loc[newIdx1+badReturnDataRanges1[1],'index']]\n]\nbadDataWindow1.set_index('index',inplace=True)\nupdateRawReturns(badDataWindow1,rawIndices1)\n# fix second section of incorrect raw returns\nbadDate2 = '2012-02-15'\nbadIndex2 = market_train_df[(market_train_df['assetCode'] == assetCode) & (market_train_df['date'] == badDate2)].index[0]\ndayWindow2 = 20\nbadReturnDataRanges2 = [0,9]\nbadDataWindow2 = sampleAssetData(assetCode,badDate2,dayWindow2)\nbadDataWindow2.reset_index(inplace=True)\nnewIdx2 = badDataWindow2[badDataWindow2['index'] == badIndex2].index[0]\nrawIndices2 = [\n    [badIndex2,badDataWindow2.loc[newIdx2+badReturnDataRanges2[0],'index']],\n    [badIndex2,badDataWindow2.loc[newIdx2+badReturnDataRanges2[1],'index']]\n]\nbadDataWindow2.set_index('index',inplace=True)\nupdateRawReturns(badDataWindow2,rawIndices2)\n# fix mktres returns\nbadDate3 = '2012-01-09'\nbadIndex3 = market_train_df[(market_train_df['assetCode'] == assetCode) & (market_train_df['date'] == badDate3)].index[0]\ndayWindow3 = 120\nbadReturnDataRanges3 = [-44,46,55,-55,44]\nbadDataWindow3 = sampleAssetData(assetCode,badDate3,dayWindow3)\nbadDataWindow3.reset_index(inplace=True)\nnewIdx3 = badDataWindow3[badDataWindow3['index'] == badIndex3].index[0]\nindices3 = [[],[],\n    [badDataWindow3.loc[newIdx3+badReturnDataRanges3[0],'index'],badDataWindow3.loc[newIdx3+badReturnDataRanges3[1],'index']],\n    [badDataWindow3.loc[newIdx3+badReturnDataRanges3[0],'index'],badDataWindow3.loc[newIdx3+badReturnDataRanges3[2],'index']],\n    [badDataWindow3.loc[newIdx3+badReturnDataRanges3[3],'index'],badDataWindow3.loc[newIdx3+badReturnDataRanges3[4],'index']]\n]\nbadDataWindow3.set_index('index',inplace=True)\nupdateMktresReturns(assetCode,badDataWindow3,indices3)",
      "execution_count": 23,
      "outputs": [
        {
          "output_type": "stream",
          "text": "/opt/conda/lib/python3.6/site-packages/ipykernel_launcher.py:20: SettingWithCopyWarning: \nA value is trying to be set on a copy of a slice from a DataFrame.\nTry using .loc[row_indexer,col_indexer] = value instead\n\nSee the caveats in the documentation: http://pandas.pydata.org/pandas-docs/stable/indexing.html#indexing-view-versus-copy\n/opt/conda/lib/python3.6/site-packages/ipykernel_launcher.py:21: SettingWithCopyWarning: \nA value is trying to be set on a copy of a slice from a DataFrame\n\nSee the caveats in the documentation: http://pandas.pydata.org/pandas-docs/stable/indexing.html#indexing-view-versus-copy\n/opt/conda/lib/python3.6/site-packages/ipykernel_launcher.py:20: SettingWithCopyWarning: \nA value is trying to be set on a copy of a slice from a DataFrame.\nTry using .loc[row_indexer,col_indexer] = value instead\n\nSee the caveats in the documentation: http://pandas.pydata.org/pandas-docs/stable/indexing.html#indexing-view-versus-copy\n/opt/conda/lib/python3.6/site-packages/ipykernel_launcher.py:21: SettingWithCopyWarning: \nA value is trying to be set on a copy of a slice from a DataFrame\n\nSee the caveats in the documentation: http://pandas.pydata.org/pandas-docs/stable/indexing.html#indexing-view-versus-copy\n",
          "name": "stderr"
        }
      ]
    },
    {
      "metadata": {
        "trusted": true,
        "_uuid": "506b84960e45194bf1452a6531b88d0fa62052e8"
      },
      "cell_type": "code",
      "source": "# dropping TECD.O data in Feb-May 2015\nmarket_train_df = market_train_df[~((market_train_df['assetCode'] == 'TECD.O')\n                                  & (market_train_df['time'] >= '2015-01-30')\n                                  & (market_train_df['time'] <= '2015-04-30'))]",
      "execution_count": 24,
      "outputs": []
    },
    {
      "metadata": {
        "trusted": true,
        "_uuid": "4a5cd035433b101a46ded8974ad291b33f54268d"
      },
      "cell_type": "code",
      "source": "# dropping EBR.N data in Oct 2016\nmarket_train_df = market_train_df[~((market_train_df['assetCode'] == 'EBR.N')\n                                  & (market_train_df['time'] >= '2016-10-01'))]",
      "execution_count": 25,
      "outputs": []
    },
    {
      "metadata": {
        "trusted": true,
        "_uuid": "5968129dc87f6dea4f51d1b59b2a32af6d3fed03"
      },
      "cell_type": "code",
      "source": "# dropping HGSI.O data in Feb and Mar 2016\nmarket_train_df = market_train_df[~((market_train_df['assetCode'] == 'HGSI.O')\n                                  & (market_train_df['time'] < '2009-04-01'))]",
      "execution_count": 26,
      "outputs": []
    },
    {
      "metadata": {
        "trusted": true,
        "scrolled": true,
        "_uuid": "8ee7fcf9b18b09993ea86c7b4be41d8109e49209"
      },
      "cell_type": "code",
      "source": "market_train_df.shape",
      "execution_count": 27,
      "outputs": [
        {
          "output_type": "execute_result",
          "execution_count": 27,
          "data": {
            "text/plain": "(4071802, 17)"
          },
          "metadata": {}
        }
      ]
    },
    {
      "metadata": {
        "_uuid": "c9b318684c805dd509fe33be453c5ddbb367fb5c"
      },
      "cell_type": "markdown",
      "source": "## Creating Model\nGot most of it from https://www.kaggle.com/christofhenkel/market-data-nn-baseline"
    },
    {
      "metadata": {
        "trusted": true,
        "_uuid": "aeda5632d9df7796cf5f70791ec727cbcb3f00d6",
        "scrolled": true
      },
      "cell_type": "code",
      "source": "cat_cols = ['assetCode']\nnum_cols = ['volume', 'close', 'open', 'returnsClosePrevRaw1', 'returnsOpenPrevRaw1', 'returnsClosePrevMktres1',\n            'returnsOpenPrevMktres1', 'returnsClosePrevRaw10', 'returnsOpenPrevRaw10', 'returnsClosePrevMktres10',\n            'returnsOpenPrevMktres10']\n\ntrain_indices, val_indices = train_test_split(market_train_df.index.values,test_size=0.25, random_state=20)",
      "execution_count": 28,
      "outputs": []
    },
    {
      "metadata": {
        "_uuid": "185d5fd197e8fd33e3b9692c5e8c2fdd379bdf94"
      },
      "cell_type": "markdown",
      "source": "### Handling categorical values"
    },
    {
      "metadata": {
        "trusted": true,
        "_uuid": "455a31cceee16c5294b38f44cdb26f67ef762032"
      },
      "cell_type": "code",
      "source": "def encode(encoder, x):\n    len_encoder = len(encoder)\n    try:\n        id = encoder[x]\n    except KeyError:\n        id = len_encoder\n    return id\n\nencoders = [{} for cat in cat_cols]\n\n\nfor i, cat in enumerate(cat_cols):\n    print('encoding %s ...' % cat, end=' ')\n    encoders[i] = {l: id for id, l in enumerate(market_train_df.loc[train_indices, cat].astype(str).unique())}\n    market_train_df[cat] = market_train_df[cat].astype(str).apply(lambda x: encode(encoders[i], x))\n    print('Done')\n\nembed_sizes = [len(encoder) + 1 for encoder in encoders] #+1 for possible unknown assets",
      "execution_count": 29,
      "outputs": [
        {
          "output_type": "stream",
          "text": "encoding assetCode ... Done\n",
          "name": "stdout"
        }
      ]
    },
    {
      "metadata": {
        "_uuid": "cd027228597a446e0cc11b5cdd7f70f25ffafebc"
      },
      "cell_type": "markdown",
      "source": "### Normalizing numerical values"
    },
    {
      "metadata": {
        "trusted": true,
        "_uuid": "b327528b80646b96d20840200953906649dd8c4b"
      },
      "cell_type": "code",
      "source": "market_train_df[num_cols] = market_train_df[num_cols].fillna(0)\nprint('scaling numerical columns')\n\nscaler = StandardScaler()\n\nscaler = StandardScaler()\nmarket_train_df[num_cols] = scaler.fit_transform(market_train_df[num_cols])",
      "execution_count": 30,
      "outputs": [
        {
          "output_type": "stream",
          "text": "scaling numerical columns\n",
          "name": "stdout"
        }
      ]
    },
    {
      "metadata": {
        "trusted": true,
        "_uuid": "5a3c328a0196b191472c710714b95bb0cf3dc832"
      },
      "cell_type": "code",
      "source": "categorical_inputs = []\nfor cat in cat_cols:\n    categorical_inputs.append(Input(shape=[1], name=cat))\n\ncategorical_embeddings = []\nfor i, cat in enumerate(cat_cols):\n    categorical_embeddings.append(Embedding(embed_sizes[i], 10)(categorical_inputs[i]))\n\n#categorical_logits = Concatenate()([Flatten()(cat_emb) for cat_emb in categorical_embeddings])\ncategorical_logits = Flatten()(categorical_embeddings[0])\ncategorical_logits = Dense(32,activation='tanh')(categorical_logits)\n\nnumerical_inputs = Input(shape=(11,), name='num')\nnumerical_logits = numerical_inputs\nnumerical_logits = BatchNormalization()(numerical_logits)\n\n\n#numerical_logits = LSTM(150, input_shape=numerical_logits.shape, return_sequences=False)(numerical logits)\n#numerical_logits = LSTM(32, activation='tanh', recurrent_activation='hard_sigmoid')(numerical_logits)\nnumerical_logits = Dense(128,activation='tanh')(numerical_logits)\nnumerical_logits = Dense(64,activation='tanh')(numerical_logits)\n\nlogits = Concatenate()([numerical_logits,categorical_logits])\nlogits = Dense(64,activation='tanh')(logits)\nout = Dense(1, activation='tanh')(logits)\n\nmodel = Model(inputs = categorical_inputs + [numerical_inputs], outputs=out)\n#model.add(LSTM(hidden_size, return_sequences=True)\nmodel.compile(optimizer='adam',loss=binary_crossentropy)",
      "execution_count": 31,
      "outputs": []
    },
    {
      "metadata": {
        "trusted": true,
        "_uuid": "1fbf12b9ff888bbdd9b6e49b2bde2e6416010377",
        "scrolled": true
      },
      "cell_type": "code",
      "source": "model.summary()",
      "execution_count": 32,
      "outputs": [
        {
          "output_type": "stream",
          "text": "__________________________________________________________________________________________________\nLayer (type)                    Output Shape         Param #     Connected to                     \n==================================================================================================\nnum (InputLayer)                (None, 11)           0                                            \n__________________________________________________________________________________________________\nassetCode (InputLayer)          (None, 1)            0                                            \n__________________________________________________________________________________________________\nbatch_normalization_1 (BatchNor (None, 11)           44          num[0][0]                        \n__________________________________________________________________________________________________\nembedding_1 (Embedding)         (None, 1, 10)        37750       assetCode[0][0]                  \n__________________________________________________________________________________________________\ndense_2 (Dense)                 (None, 128)          1536        batch_normalization_1[0][0]      \n__________________________________________________________________________________________________\nflatten_1 (Flatten)             (None, 10)           0           embedding_1[0][0]                \n__________________________________________________________________________________________________\ndense_3 (Dense)                 (None, 64)           8256        dense_2[0][0]                    \n__________________________________________________________________________________________________\ndense_1 (Dense)                 (None, 32)           352         flatten_1[0][0]                  \n__________________________________________________________________________________________________\nconcatenate_1 (Concatenate)     (None, 96)           0           dense_3[0][0]                    \n                                                                 dense_1[0][0]                    \n__________________________________________________________________________________________________\ndense_4 (Dense)                 (None, 64)           6208        concatenate_1[0][0]              \n__________________________________________________________________________________________________\ndense_5 (Dense)                 (None, 1)            65          dense_4[0][0]                    \n==================================================================================================\nTotal params: 54,211\nTrainable params: 54,189\nNon-trainable params: 22\n__________________________________________________________________________________________________\n",
          "name": "stdout"
        }
      ]
    },
    {
      "metadata": {
        "trusted": true,
        "_uuid": "7ea80e39ce07a6b51ac9acec4578c125da6a58f0"
      },
      "cell_type": "code",
      "source": "def get_input(market_train, indices):\n    X_num = market_train_df.loc[indices, num_cols].values\n    X = {'num':X_num}\n    for cat in cat_cols:\n        X[cat] = market_train_df.loc[indices, cat_cols].values\n    y = (market_train_df.loc[indices,'returnsOpenNextMktres10'] >= 0).values\n    r = market_train_df.loc[indices,'returnsOpenNextMktres10'].values\n    u = market_train_df.loc[indices, 'universe']\n    d = market_train_df.loc[indices, 'time'].dt.date\n    return X,y,r,u,d\n\n# r, u and d are used to calculate the scoring metric\nX_train,y_train,r_train,u_train,d_train = get_input(market_train_df, train_indices)\nX_valid,y_valid,r_valid,u_valid,d_valid = get_input(market_train_df, val_indices)",
      "execution_count": 33,
      "outputs": []
    },
    {
      "metadata": {
        "trusted": true,
        "scrolled": true,
        "_uuid": "98354e066c1ec86866a8da83cd9a5c5a26969a66"
      },
      "cell_type": "code",
      "source": "%%time\ncheck_point = ModelCheckpoint('model.hdf5',verbose=True, save_best_only=True)\nearly_stop = EarlyStopping(patience=5,verbose=True)\nmodel.fit(X_train,y_train.astype(int),\n          validation_data=(X_valid,y_valid.astype(int)),\n          epochs=2,\n          verbose=True,\n          callbacks=[early_stop,check_point]) ",
      "execution_count": 34,
      "outputs": [
        {
          "output_type": "stream",
          "text": "Train on 3053851 samples, validate on 1017951 samples\nEpoch 1/2\n3053851/3053851 [==============================] - 195s 64us/step - loss: 0.6883 - val_loss: 0.6857\n\nEpoch 00001: val_loss improved from inf to 0.68575, saving model to model.hdf5\nEpoch 2/2\n3053851/3053851 [==============================] - 193s 63us/step - loss: 0.6848 - val_loss: 0.6853\n\nEpoch 00002: val_loss improved from 0.68575 to 0.68530, saving model to model.hdf5\nCPU times: user 13min 14s, sys: 1min 35s, total: 14min 50s\nWall time: 6min 28s\n",
          "name": "stdout"
        }
      ]
    },
    {
      "metadata": {
        "trusted": true,
        "_uuid": "7aba6c74d9b47934280edb65daf40413c40921ef"
      },
      "cell_type": "code",
      "source": "# distribution of confidence that will be used as submission\nmodel.load_weights('model.hdf5')\nconfidence_valid = model.predict(X_valid)[:,0]*2 -1\nprint(accuracy_score(confidence_valid>0,y_valid))\nplt.hist(confidence_valid, bins='auto')\nplt.title(\"predicted confidence\")\nplt.show()",
      "execution_count": 35,
      "outputs": [
        {
          "output_type": "stream",
          "text": "0.5509852635342959\n",
          "name": "stdout"
        },
        {
          "output_type": "display_data",
          "data": {
            "text/plain": "<Figure size 432x288 with 1 Axes>",
            "image/png": "[encoded data removed]"
          },
          "metadata": {}
        }
      ]
    },
    {
      "metadata": {
        "trusted": true,
        "_uuid": "f66ab84abc3fe3897d59b8717f48aeab25635a37"
      },
      "cell_type": "code",
      "source": "# calculation of actual metric that is used to calculate final score\nr_valid = r_valid.clip(-1,1) # get rid of outliers. Where do they come from??\nx_t_i = confidence_valid * r_valid * u_valid\ndata = {'day' : d_valid, 'x_t_i' : x_t_i}\ndf = pd.DataFrame(data)\nx_t = df.groupby('day').sum().values.flatten()\nmean = np.mean(x_t)\nstd = np.std(x_t)\nscore_valid = mean / std\nprint(score_valid)",
      "execution_count": 36,
      "outputs": [
        {
          "output_type": "stream",
          "text": "0.7535177647326675\n",
          "name": "stdout"
        }
      ]
    },
    {
      "metadata": {
        "_uuid": "b61d32e271ac3ed65831f4b2ad9d1b2e058e92fc"
      },
      "cell_type": "markdown",
      "source": "## Predicting"
    },
    {
      "metadata": {
        "trusted": true,
        "_uuid": "92e3ccedfde1e5fc8209ec7c5950a6eb648cda9a"
      },
      "cell_type": "code",
      "source": "days = env.get_prediction_days()",
      "execution_count": 37,
      "outputs": []
    },
    {
      "metadata": {
        "trusted": true,
        "_uuid": "eb2797310d6ffd5bb672888280408e641246463b"
      },
      "cell_type": "code",
      "source": "n_days = 0\nprep_time = 0\nprediction_time = 0\npackaging_time = 0\npredicted_confidences = np.array([])\nfor (market_obs_df, news_obs_df, predictions_template_df) in days:\n    n_days +=1\n    print(n_days,end=' ')\n    \n    t = time.time()\n\n    market_obs_df['assetCode_encoded'] = market_obs_df[cat].astype(str).apply(lambda x: encode(encoders[i], x))\n\n    market_obs_df[num_cols] = market_obs_df[num_cols].fillna(0)\n    market_obs_df[num_cols] = scaler.transform(market_obs_df[num_cols])\n    X_num_test = market_obs_df[num_cols].values\n    X_test = {'num':X_num_test}\n    X_test['assetCode'] = market_obs_df['assetCode_encoded'].values\n    \n    prep_time += time.time() - t\n    \n    t = time.time()\n    market_prediction = model.predict(X_test)[:,0]*2 -1\n    predicted_confidences = np.concatenate((predicted_confidences, market_prediction))\n    prediction_time += time.time() -t\n    \n    t = time.time()\n    preds = pd.DataFrame({'assetCode':market_obs_df['assetCode'],'confidence':market_prediction})\n    # insert predictions to template\n    predictions_template_df = predictions_template_df.merge(preds,how='left').drop('confidenceValue',axis=1).fillna(0).rename(columns={'confidence':'confidenceValue'})\n    env.predict(predictions_template_df)\n    packaging_time += time.time() - t\n\nenv.write_submission_file()\ntotal = prep_time + prediction_time + packaging_time\nprint(f'Preparing Data: {prep_time:.2f}s')\nprint(f'Making Predictions: {prediction_time:.2f}s')\nprint(f'Packing: {packaging_time:.2f}s')\nprint(f'Total: {total:.2f}s')",
      "execution_count": 38,
      "outputs": [
        {
          "output_type": "stream",
          "text": "1 2 3 4 5 6 7 8 9 10 11 12 13 14 15 16 17 18 19 20 21 22 23 24 25 26 27 28 29 30 31 32 33 34 35 36 37 38 39 40 41 42 43 44 45 46 47 48 49 50 51 52 53 54 55 56 57 58 59 60 61 62 63 64 65 66 67 68 69 70 71 72 73 74 75 76 77 78 79 80 81 82 83 84 85 86 87 88 89 90 91 92 93 94 95 96 97 98 99 100 101 102 103 104 105 106 107 108 109 110 111 112 113 114 115 116 117 118 119 120 121 122 123 124 125 126 127 128 129 130 131 132 133 134 135 136 137 138 139 140 141 142 143 144 145 146 147 148 149 150 151 152 153 154 155 156 157 158 159 160 161 162 163 164 165 166 167 168 169 170 171 172 173 174 175 176 177 178 179 180 181 182 183 184 185 186 187 188 189 190 191 192 193 194 195 196 197 198 199 200 201 202 203 204 205 206 207 208 209 210 211 212 213 214 215 216 217 218 219 220 221 222 223 224 225 226 227 228 229 230 231 232 233 234 235 236 237 238 239 240 241 242 243 244 245 246 247 248 249 250 251 252 253 254 255 256 257 258 259 260 261 262 263 264 265 266 267 268 269 270 271 272 273 274 275 276 277 278 279 280 281 282 283 284 285 286 287 288 289 290 291 292 293 294 295 296 297 298 299 300 301 302 303 304 305 306 307 308 309 310 311 312 313 314 315 316 317 318 319 320 321 322 323 324 325 326 327 328 329 330 331 332 333 334 335 336 337 338 339 340 341 342 343 344 345 346 347 348 349 350 351 352 353 354 355 356 357 358 359 360 361 362 363 364 365 366 367 368 369 370 371 372 373 374 375 376 377 378 379 380 381 382 383 384 385 386 387 388 389 390 391 392 393 394 395 396 397 398 399 400 401 402 403 404 405 406 407 408 409 410 411 412 413 414 415 416 417 418 419 420 421 422 423 424 425 426 427 428 429 430 431 432 433 434 435 436 437 438 439 440 441 442 443 444 445 446 447 448 449 450 451 452 453 454 455 456 457 458 459 460 461 462 463 464 465 466 467 468 469 470 471 472 473 474 475 476 477 478 479 480 481 482 483 484 485 486 487 488 489 490 491 492 493 494 495 496 497 498 499 500 501 502 503 504 505 506 507 508 509 510 511 512 513 514 515 516 517 518 519 520 521 522 523 524 525 526 527 528 529 530 531 532 533 534 535 536 537 538 539 540 541 542 543 544 545 546 547 548 549 550 551 552 553 554 555 556 557 558 559 560 561 562 563 564 565 566 567 568 569 570 571 572 573 574 575 576 577 578 579 580 581 582 583 584 585 586 587 588 589 590 591 592 593 594 595 596 597 598 599 600 601 602 603 604 605 606 607 608 609 610 611 612 613 614 615 616 617 618 619 620 621 622 623 624 625 626 627 628 629 630 631 632 633 634 635 636 637 638 639 Your submission file has been saved. Once you `Commit` your Kernel and it finishes running, you can submit the file to the competition from the Kernel Viewer `Output` tab.\nPreparing Data: 7.81s\nMaking Predictions: 25.91s\nPacking: 5.24s\nTotal: 38.97s\n",
          "name": "stdout"
        }
      ]
    },
    {
      "metadata": {
        "trusted": true,
        "_uuid": "3596a31da91d6a32e3c3ef95cbf8404b305d6563"
      },
      "cell_type": "code",
      "source": "# distribution of confidence as a sanity check: they should be distributed as above\nplt.hist(predicted_confidences, bins='auto')\nplt.title(\"predicted confidence\")\nplt.show()",
      "execution_count": 39,
      "outputs": [
        {
          "output_type": "display_data",
          "data": {
            "text/plain": "<Figure size 432x288 with 1 Axes>",
            "image/png": "[encoded data removed]"
          },
          "metadata": {}
        }
      ]
    },
    {
      "metadata": {
        "_uuid": "6c493d3893b5916657d508d6b3192c7137717767"
      },
      "cell_type": "markdown",
      "source": ""
    },
    {
      "metadata": {
        "_uuid": "697eaeab2b83301927417113dfe418a9f70064ab"
      },
      "cell_type": "markdown",
      "source": ""
    }
  ],
  "metadata": {
    "kernelspec": {
      "display_name": "Python 3",
      "language": "python",
      "name": "python3"
    },
    "language_info": {
      "name": "python",
      "version": "3.6.6",
      "mimetype": "text/x-python",
      "codemirror_mode": {
        "name": "ipython",
        "version": 3
      },
      "pygments_lexer": "ipython3",
      "nbconvert_exporter": "python",
      "file_extension": ".py"
    }
  },
  "nbformat": 4,
  "nbformat_minor": 1
}